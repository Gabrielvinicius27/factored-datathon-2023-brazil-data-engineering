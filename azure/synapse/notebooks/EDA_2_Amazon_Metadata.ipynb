{
  "cells": [
    {
      "cell_type": "markdown",
      "source": [
        "# Exploring Amazon Metadata Dataset"
      ],
      "metadata": {
        "nteract": {
          "transient": {
            "deleting": false
          }
        }
      }
    },
    {
      "cell_type": "markdown",
      "source": [
        "## Importing Libs"
      ],
      "metadata": {
        "nteract": {
          "transient": {
            "deleting": false
          }
        }
      }
    },
    {
      "cell_type": "code",
      "source": [
        "import pyspark.pandas as ps\r\n",
        "import numpy as np\r\n",
        "import pandas as pd\r\n",
        "import matplotlib.pylab as plt\r\n",
        "import seaborn as sns\r\n",
        "import pyspark.sql.functions as F\r\n",
        "from pyspark.sql.types import StructType,StructField, StringType"
      ],
      "outputs": [
        {
          "output_type": "display_data",
          "data": {
            "application/vnd.livy.statement-meta+json": {
              "spark_pool": "synsp03",
              "session_id": "9",
              "statement_id": 2,
              "state": "finished",
              "livy_statement_state": "available",
              "queued_time": "2023-07-28T23:58:58.3750927Z",
              "session_start_time": "2023-07-28T23:58:58.4423365Z",
              "execution_start_time": "2023-07-29T00:03:01.1469459Z",
              "execution_finish_time": "2023-07-29T00:03:22.3699432Z",
              "spark_jobs": null,
              "parent_msg_id": "e740acf7-01eb-479c-ba93-78e8e30b5231"
            },
            "text/plain": "StatementMeta(synsp03, 9, 2, Finished, Available)"
          },
          "metadata": {}
        },
        {
          "output_type": "stream",
          "name": "stdout",
          "text": [
            "'PYARROW_IGNORE_TIMEZONE' environment variable was not set. It is required to set this environment variable to '1' in both driver and executor sides if you use pyarrow>=2.0.0. pandas-on-Spark will set it for you but it does not work if there is a Spark context already launched.\n"
          ]
        }
      ],
      "execution_count": 1,
      "metadata": {
        "jupyter": {
          "source_hidden": false,
          "outputs_hidden": false
        },
        "nteract": {
          "transient": {
            "deleting": false
          }
        }
      }
    },
    {
      "cell_type": "code",
      "source": [
        "spark.conf.get('spark.kryoserializer.buffer.max')"
      ],
      "outputs": [
        {
          "output_type": "display_data",
          "data": {
            "application/vnd.livy.statement-meta+json": {
              "spark_pool": "synsp03",
              "session_id": "8",
              "statement_id": 2,
              "state": "finished",
              "livy_statement_state": "available",
              "queued_time": "2023-07-27T12:00:43.8760829Z",
              "session_start_time": "2023-07-27T12:00:43.9430778Z",
              "execution_start_time": "2023-07-27T12:04:29.1648537Z",
              "execution_finish_time": "2023-07-27T12:04:29.3299532Z",
              "spark_jobs": null,
              "parent_msg_id": "4b6a68af-172a-4e39-8da8-b84d1fed6455"
            },
            "text/plain": "StatementMeta(synsp03, 8, 2, Finished, Available)"
          },
          "metadata": {}
        },
        {
          "output_type": "execute_result",
          "execution_count": 5,
          "data": {
            "text/plain": "'512m'"
          },
          "metadata": {}
        }
      ],
      "execution_count": 16,
      "metadata": {
        "jupyter": {
          "source_hidden": false,
          "outputs_hidden": false
        },
        "nteract": {
          "transient": {
            "deleting": false
          }
        }
      }
    },
    {
      "cell_type": "markdown",
      "source": [
        "## Loading dataframe"
      ],
      "metadata": {
        "nteract": {
          "transient": {
            "deleting": false
          }
        }
      }
    },
    {
      "cell_type": "code",
      "source": [
        "root = 'abfss://default@stdatalakeakita.dfs.core.windows.net/synapse/workspaces/syn-synfactoreddatathon01-dev'\r\n",
        "\r\n",
        "df = spark.read\\\r\n",
        ".format('parquet')\\\r\n",
        ".load(f'{root}/silver/silver_amazon_metadata/**')\\\r\n",
        ".withColumn('secondary_category', F.col('category').getItem(1))\\\r\n",
        ".repartition(200)\r\n",
        "\r\n",
        "df_pandas = df.pandas_api()"
      ],
      "outputs": [
        {
          "output_type": "display_data",
          "data": {
            "application/vnd.livy.statement-meta+json": {
              "spark_pool": "synsp03",
              "session_id": "9",
              "statement_id": 18,
              "state": "finished",
              "livy_statement_state": "available",
              "queued_time": "2023-07-29T00:39:38.8629508Z",
              "session_start_time": null,
              "execution_start_time": "2023-07-29T00:39:39.0279612Z",
              "execution_finish_time": "2023-07-29T00:39:41.9345874Z",
              "spark_jobs": null,
              "parent_msg_id": "b3fec011-d83c-4b3b-86c5-221fbac80f9e"
            },
            "text/plain": "StatementMeta(synsp03, 9, 18, Finished, Available)"
          },
          "metadata": {}
        }
      ],
      "execution_count": 17,
      "metadata": {}
    },
    {
      "cell_type": "markdown",
      "source": [
        "## Exploratory Data Analysis"
      ],
      "metadata": {
        "nteract": {
          "transient": {
            "deleting": false
          }
        }
      }
    },
    {
      "cell_type": "code",
      "source": [
        "print(df_pandas.shape)\r\n",
        "print(df_pandas.columns)"
      ],
      "outputs": [
        {
          "output_type": "display_data",
          "data": {
            "application/vnd.livy.statement-meta+json": {
              "spark_pool": "synsp03",
              "session_id": "9",
              "statement_id": 19,
              "state": "finished",
              "livy_statement_state": "available",
              "queued_time": "2023-07-29T00:39:46.2576806Z",
              "session_start_time": null,
              "execution_start_time": "2023-07-29T00:39:46.4171331Z",
              "execution_finish_time": "2023-07-29T00:39:55.4085347Z",
              "spark_jobs": null,
              "parent_msg_id": "b2ae05fd-0c0b-466b-b341-85bb68b4ff49"
            },
            "text/plain": "StatementMeta(synsp03, 9, 19, Finished, Available)"
          },
          "metadata": {}
        },
        {
          "output_type": "stream",
          "name": "stdout",
          "text": [
            "(14741571, 13)\nIndex(['asin', 'also_buy', 'also_view', 'brand', 'category', 'main_category',\n       'description', 'feature', 'image', 'price', 'rank', 'title',\n       'secondary_category'],\n      dtype='object')\n"
          ]
        }
      ],
      "execution_count": 18,
      "metadata": {
        "jupyter": {
          "source_hidden": false,
          "outputs_hidden": false
        },
        "nteract": {
          "transient": {
            "deleting": false
          }
        }
      }
    },
    {
      "cell_type": "code",
      "source": [
        "df_pandas.head(20)"
      ],
      "outputs": [
        {
          "output_type": "display_data",
          "data": {
            "application/vnd.livy.statement-meta+json": {
              "spark_pool": "synsp03",
              "session_id": "9",
              "statement_id": 20,
              "state": "finished",
              "livy_statement_state": "available",
              "queued_time": "2023-07-29T00:40:01.52123Z",
              "session_start_time": null,
              "execution_start_time": "2023-07-29T00:40:01.675406Z",
              "execution_finish_time": "2023-07-29T00:41:25.2278627Z",
              "spark_jobs": null,
              "parent_msg_id": "d6c6ce8c-d895-43b7-b8ea-0407ccbb42c0"
            },
            "text/plain": "StatementMeta(synsp03, 9, 20, Finished, Available)"
          },
          "metadata": {}
        },
        {
          "output_type": "execute_result",
          "execution_count": 41,
          "data": {
            "text/plain": "          asin                                                                                                                                                                                                                                                                                                                                                                              also_buy                                                                                                                                                                                                                                                                                                                                                                                                                                                                                                                                                                                                                                                                                                     also_view                                brand                                                                                                                                                                                                          category             main_category                                                                                                                                                                                                                                                                                                                       description                                                                                                                                                                             feature                                                                      image   price      rank                                                                                                                                            title                  secondary_category\n0   B014LRS176                                                                                                                                                                                                                                                                                                                                                                                    []                                                                                                                                                                                      [B01LWTYVF6, B00JT3DDJO, B01HT0QFHA, B07DL2D56C, B01JUB4S8Y, B01LY77N0Z, B07H7ZLHG6, B01EWBC55A, B01N08HHPR, B01M19H8K2, B01EWBBZHO, B01EWAW7G8, B00LBOL148, B01EWAWDNK, B00I7M7C40, B01EWNBF18, B01EWAW5LA, B071F4T9F9, B013TEEKOK, B01J7SENUS, B01EWNB630, B01EWBBXTY, B01EWBC39I, B0787SPX7T, B073B6M3WG, B01G4QD1TK, B017EOAIFG, B0196H75KA, B017EHBRDU, B01M2DB84Z, B01EWNBDQK, B07C3N6KMF, B01D44HSRG, B079D4CS6F, B076SGF5Z8, B077187D5M, B01EWNBCIE, B01LLSNG1E, B06VX2X433, B07L3TT4TQ, B07FXHDWYQ, B06XKFLBGS]                             QUALIZZI                                                                                                                                                                                   [Home & Kitchen, Seasonal Dcor]            Home & Kitchen                                                                                                                                                                                                                                                                       FAIRY LIGHTS a PACK OF 3 Warm white mini LED lights strings  300 MINI LED Bulbs and Three AC/DC Power Adaptors in Black Color (set of 3 units). It is 110/240v. to be used in USA and in Europe. These novelty lights are suitable for bedrooms    https://images-na.ssl-images-amazon.com/images/I/51Ldqq617TL._SS40_.jpg  $47.99    433688          QUALIZZI Fairy Lights Set - String Lights That Look Like Stars. 300 Starry LED Bulbs Warm White Color on Copper Wire (33 Feet x 3 Pack)                       Seasonal Dcor\n1   B00LCSWV4C                                                                                                                                                                                                                                                                                                                                                                                    []                                                                                                                                                                                                                                                                                                                                                                                                                                                                                                                                                                                                                                                                                                            []                                 Bula                                                                                                                             [Sports & Outdoors, Outdoor Recreation, Winter Sports, Skiing, Clothing, Women, Hats]         Sports & Outdoors  Sheep wool will never feel itchy against your skin and delivers unparalleled performance regardless of climate and conditions. Wool contains small air pockets that act as an insulator to regulate temperature and wick moisture away from your skin while naturally repelling water. If you require uncompromising performance                                                                                                                                                         50% MERINO WOOL 50% ACRYLIC                                                                                      1665627                                                                                                                       Bula Women's Fiasco Beanie                  Outdoor Recreation\n2   B00IXYFF7S                                                                                                                                                                                                                                                                                                                                                                          [B00IXYJBAU]                                                                                                                                                                                                                                                                                                                                                                                                                                                                                                                                                                                                                                                                                                            []                                  PTC                                                                                                                                             [Home & Kitchen, Home Dcor, Home Dcor Accents, Collectible Figurines]            Home & Kitchen                                                                                   This gorgeous 6.75 Inch Screaming Werewolf Mythological Creature Statue Figurine has the finest details and highest quality you will find anywhere! 6.75 Inch Screaming Werewolf Mythological Creature Statue Figurine is truly remarkable.<br>                                                                                                                                           Perfect gift for those that love Gargoyle                                                                                      2309232                                                                               6.75 Inch Screaming Werewolf Mythological Creature Statue Figurine                           Home Dcor\n3   B00HYJJ4Y8                                                                                                                                                                                                                                                                                                                                                                                    []                                                                                                                                                                                                                                                                                                                                                                                                                                                                                                                                                                                                                                                                                                            []                          Monster Jam                                                                                                                                                                                                                []                                                                                                                                                                                                                                                                                                                                             Off-Road Series                                                                                                                                                                                1:64                                                                              $9.77    866407                                             Hot Wheels Off-Road Monster Jam 2014 New Look Monster Mutt Dalmatian #16 Includes Monster Jam Figure                                None\n4   B00B5ZWY7G                                                                                                                                                                                                                                                                                                                                                                                    []                                                                                                                                                                                                                                                                                                                                                                                                                                                                                                                                                                                                                                                                                                            []                           GeauxRobot                                                                                         [Electronics, Computers & Accessories, Computer Accessories & Peripherals, Hard Drive Accessories, Hard Drive Enclosures]               Electronics                                                                                                                                                                                                       Compatible with Raspberry Pi V2.0 model. The case is made of High quality Acrylic. 6 pieces box parts are easy to assembly.                                                                                                                                                   Compatible with Raspberry Pi V2.0  https://images-na.ssl-images-amazon.com/images/I/41iCmv8Gn%2BL._SS40_.jpg              2923                                                                                                 GeauxRobot Clear Raspberry Pi Case Box Enclosure             Computers & Accessories\n5   B0094KW3E8                                                                                                                                                                                                                                                                                                                                                                                    []                                                              [B078HBZ9NH, B07CP1SCCJ, B01M6B9BHX, B07CJQ857K, B07BXXQ72T, B07CQ9DKNB, B07DRQTQMW, B07CKFW929, B077H39JQ5, B073JZS1JK, B074G1FMCK, B01N5R999A, B0727XHWS7, B0798VQYHB, B07CLNCH5B, B07CF4BD79, B07KXM15T7, B00TL59D1M, B07F72F7MK, B077H4LL93, B01MXF9B8M, B078HS8R73, B07CMHSSXD, B01J3YNJY2, B01J23V8HE, B07CMFT1VD, B0771SLY7C, B07BYJ6DP7, B078HD1TZ8, B01HYJC2KU, B01C02D8CM, B0787SGDCN, B01FY8HXNY, B0711V87GQ, B076396T3W, B01GXPT8K8, B01J3ZDA2M, B007SK9V64, B00MQB15TQ, B07BXSC69C, B07BN4VS8D, B01GGOMLOQ, B076HFJM5P, B07CP24DQ4, B07D3CPGK8, B07G2RWPLT, B07G8PNC7H, B07CKCTJJB, B07CRFZ4WL, B077GJSTHT, B073P8H7DF, B07CNJVKM3]                                                                                                                                                                             [Clothing,  Shoes & Jewelry, Men, Shoes, Athletic, Running, Trail Running]                  Clothing                                                                                                                                                                                                                                                                                                                                                                                  <span class=\\a-text-bold\\>Package Dimensions:\\n                    </span>\\n                    <span>13.7 x 8.7 x 5.3 inches</span>    https://images-na.ssl-images-amazon.com/images/I/51iPq-MroUL._US40_.jpg           6252740                                                       Brooks Men's Cascadia 8 Trail Running Shoes, Color: HighRskRed/Java/Ntlife/Blk, Size: 13.0                     Shoes & Jewelry\n6   B00JBD2CSK  [B00N5WOP38, B00A6SP5EC, B00N5WP8UM, B00N5WPAYG, B00N5WQ9QO, B00N5WQ9L4, B016IHDGP4, B00N5WQXHO, B01N1JVSF7, B005IZNM0W, B01IDW6KZ0, B016IHDH3U, B016IHDRNA, B01NA9SZ17, B004WTR0BM, B00BNH78PO, B016IHDGOK, B016IHDGNQ, B00MPQDUVI, B00ABODBJW, B01ECHUA74, B00T03TWDO, B00IMH5P4E, B00RLNMUVG, B018EAL4WA, B00R87WO3E, B01BN82BVI, B00N5WPW6M, B06XBQCV9L, B01MXOWG6K, B01C2J3N96]                                                                                                                                                                                                                                                                                                                                                                                                                                                                                                                                                                                                                                                                                                            []                               Mattel                                                                                                                                             [Toys & Games, Toy Remote Control & Play Vehicles, Die-Cast Vehicles]              Toys & Games                                                                                                                                                                                                           Favorite characters from Disney/Pixar Cars and Cars 2 are rolling in. With huge character variety and authentic styling                                                                  Enchanting die-cast assortment gives kids the chance to reconnect with their favorite Disney/Pixar Cars characters    https://images-na.ssl-images-amazon.com/images/I/513wLmocN-L._SS40_.jpg   $9.97    457770                                                                                          Mattel Disney/Pixar Cars Nigel Gearsley Diecast Vehicle  Toy Remote Control & Play Vehicles\n7   B009K6TDQW                                                                                                                                                                                                                                                                                                                                                                                    []  [B00012NJIC, B00172XUWU, B0013OQJ66, B0043ZLTT4, B00HOGWJXY, B0006SY88Q, B001KYO33K, B00OKNCI0S, B07MBB7VFK, B07MMWRBJ5, B0013OUJIU, B00TIY67WY, B000HNHQQ6, B00F4BV5DQ, B00013YZ2U, B004L4EJQ2, B00024D786, B0013TFL1U, B0748K8CHF, B000I4CAEM, B001LRPUMY, B002BSH3HC, B0013TMWIK, B002Q16VVS, B01M3Y64F8, B0716RWHX4, B06X18S8TD, B06XTXB5RL, B074V86VXH, B075DKVTKQ, B0039VTO9A, B004R65LY8, B0043OOSYS, B074VCHSRZ, B002IS2DSY, B00ZPU27JW, B002FH5I0I, B007889Z1C, B0027AD2EC, B008OM1NRU, B001HCHWNI, B0055XUEIK, B01L081SO2, B002U7B49W, B06XTYYK4J, B00334P3RK, B00014H6NE, B003L31NM2, B00MA6P2FA, B00JA4TOH2, B07BFPPSST, B00VVKA4MC, B001KYS0IE, B00AF7JWFW, B07B41FQB6, B000BD4DV8, B07GK6SLSK]                               Adiosa                                                                                                                                                                                                                []                                                                                                                                                                                                                                                                                                                                                                                                                                                                                                                                                    https://images-na.ssl-images-amazon.com/images/I/51-NndZ2YRL._SS40_.jpg  $16.69     56513                                                                               Adiosa Calcium Citrate with Black Current for Bone Health 60 pills                                None\n8   B00G6UW8OO                                                                                                                                                                                                                                                                                                                                                                                    []                                                                                                                                                                                                                                                                                                                                                                                                                                                                                                                                                                                                                                                                                                            []                       Opl auto parts                                                                                                       [Automotive, Exterior Accessories, Towing Products & Winches, Hitch Accessories, Engine Oil Coolers & Kits]                Automotive                                                                                          Designed to handle what drivers who push their cars to its limits. Keeping the oil temperature levels low to prevent any internal damages to your vehicle and extends the lifetime of the most important parts of your engine components                                                                                                                       Aluminum Universal 7 Row Transmission/Oil Cooler (7/8 14 UNF)    https://images-na.ssl-images-amazon.com/images/I/31buIsCmmzL._SS40_.jpg  $22.00   2013242                                                                                                         OPL HPO014 Universal Aluminum Oil Cooler                Exterior Accessories\n9   1592336019                                                                                                                                      [1401942822, 1401951260, 1401947832, 161212433X, B00FESIZPA, 1626363927, 1612124259, 0967089735, B002ZIDELM, 1623152569, 1603587187, 1629142026, B07899HNQM, 0316380105, B073PKRDFM, B01LW2XD9Y, 1607743388, 1612127282, B007GGRJTG, B01DJVVORE]                                                                                                                                                                                                                                                                                                                                                                                                                                                                                                                                                                                                                                                  [1612124259, 1623155282, 1401951260, 1615641505, 162414330X]                         Meg Thompson                                                                                                                                                           [Books, Cookbooks,  Food & Wine, Cooking by Ingredient]                     Books                                                                                                                                                                                                                                                                                                      Meg Thompson is a naturopath                                                                                                                                                                                                                                                                  $9.96    641529  Superfoods for Life, Cultured and Fermented Beverages: Heal digestion - Supercharge Your Immunity - Detoxify Your System - 75 Delicious Recipes                           Cookbooks\n10  B00T9VMBBW                                                                                                                                                                                                                                                                                                                                                                                    []                                                                                                                                                                                                                                                                                                                                                                                                                                                                                                                                                                                                                                                                                                            []                        Believe Gifts                                                    [Clothing,  Shoes & Jewelry, Women, Jewelry, Bracelets, Charms & Charm Bracelets, Charms, Daughter Heart Dangle Charm Bead will fit European Charm Bracelets.]                  Clothing                                                                                                                                                                                                                  Daughter Heart Dangle Charm Bead will fit European Charm Bracelets. Pandora/Troll/Chamilia Style Charm Bracelet.                                                                                                                 Daughter Heart Dangle Charm Bead will fit European Charm Bracelets.                                                                                      7618995                                                                                  Daughter Heart Dangle Charm Bead fits European Charm Bracelets.                     Shoes & Jewelry\n11  B0027J3JGY                                                                                                                                                                                                                                                                                                                                                                                    []                                                                                                                                                                                                                                                                                                                                                                                      [B071L2VN2N, B0002DJ4GQ, B004148Q8E, B004HSOUEI, B002DVVCZQ, B0173I55Q0, B06ZXWGT7D, B071L2VTST, B01MRIQW7K, B00O8SZTKQ, B000634GVU, B00GOFSB6U, B0089E5VLC, B00FG1GKL6, B0743K2RRQ, B01N53XPQ8, B01M2WI6PT, B073WYWY97, B0173I55IS, B072P1BZ4K, B0711D9PKY, B013BXDZ90, B004LO9QR4, B0069RV8WW, B076CR78FB, B0191EWII2]                               Aqueon                                                                                                                                         [Pet Supplies, Fish & Aquatic Pets, Aquariums & Fish Bowls, Starter Kits]              Pet Supplies                                                                                                                                                                              Easy-to-use starter kit that contains the necessary equipment for successful fish keeping. Features complete Aquino Lighting and Filtration systems.                                                                                                                                     Kit Includes Everything You Need To Get Started  https://images-na.ssl-images-amazon.com/images/I/51%2BVJxwbAPL._SS40_.jpg            590266                                                                                         Aqueon AQE100001848 16-Bow Front Deluxe Kit for Aquarium                 Fish & Aquatic Pets\n12  B0188HYYSK                                                                                                                                                                                                                                                                                                                                                                                    []                                                                                                                                                                                                                                                                                                                                                                                                                                                                                                                                                                                                                                                                                                            []                       T Shirts Funny                                                                                                                                                                                                                []                                                                                                                                                                                                                                                                                                                                                                                                                                       <span class=\\a-text-bold\\>ASIN:\\n                    </span>\\n                    <span>B0188HYYSK</span>         https://images-na.ssl-images-amazon.com/images/I/31HmLGhN1cL._SR38           3669508                                                                                                     The Man Behind The Bump Short Sleeve T-Shirt                                None\n13  099045262X                                                                                                                                                                                                                                                                                                                                                              [1945953039, 1612541925]                                                                                                                                                                                                                                                                                                                                                                                                                                                                                                                                                                                                                                                                                                            []  Visit Amazon's Kalliope Barlis Page                                                                                                                                                                           [Books, Sports & Outdoors, Biographies]                     Books                                                                                                                                                                                                                                        Kalliope Barlis picked up a golf club for the first time in her twenties. Against all odds                                                                                                                                                                                                                                                                 $13.36   2101010                                           Play Golf Better Faster: The Classic Guide to Optimizing Your  Performance and Building Your Best Fast                   Sports & Outdoors\n14  B00OEZOO72                                                                                                                                                                                                                                                                                                                                                                          [B00TS8MBN4]                                                                                                                                                                                                                                                                                                                                                                                                                                                                                                                                                                                                                                                                                                            []                              Hitachi                                                                                                     [Tools & Home Improvement, Power & Hand Tools, Power Tool Parts & Accessories, Power Tools Replacement Parts]  Tools & Home Improvement                                                                                                                                                                                                                                                                                             Hitachi Power Tools (Hitachi Koki USA                                                                                                                                         Genuine Hitachi power tool replacement part    https://images-na.ssl-images-amazon.com/images/I/513ZlOMWdwL._SS40_.jpg   $1.41   1037058                                                                                     Hitachi 882674 Replacement Part for Magazine Assembly Nv65Ah                  Power & Hand Tools\n15  B006P6U6MK                                                                                                                                                                                                                                                                                                                                                                                    []                                                                                                                                                                                                                                                                                                                                                                                                                                                                                                                                                                                                                                                                                                            []                               Tiesto                                                                                        [Electronics, Accessories & Supplies, Audio & Video Accessories, Cables & Interconnects, Audio Cables, Stereo Jack Cables]               Electronics                                                                                                                                                                                                                                                                          2 Pcs of 3.5 mm Male/Female Stereo Audio Extension Cable                                                                                                                            2 Pcs of 3.5 mm Male/Female Stereo Audio Extension Cable                                                                                         9692                                                                           2 Pcs of 3.5 mm Male/Female Stereo Audio Extension Cable, 12 Ft, Black              Accessories & Supplies\n16  B0168ECBZ8                                                                                                                                                                                                                                                                                                                                                                                    []                                                                                                                                                                                                                                                                                                                                                                                                                                                                                                                                                                                                                                                                                                            []                        Capwell + Co.                                                                                                                                         [Clothing,  Shoes & Jewelry, Novelty & More, Jewelry, Earrings, Imported]                  Clothing                                                                                                                                                                                                                                                                                                                                                                                                                                                                                                              Imported    https://images-na.ssl-images-amazon.com/images/I/411F7CH82xL._US40_.jpg           8732271                                                                                                       Capwell + Co. Floral Cluster Stud Earrings                     Shoes & Jewelry\n17  B00E4UF5HU                                                                                                                                                                                                                                                                                                                                                                                    []                                                                                                                                                                                                                                                                                                                                                                                                                                                                                                                                                                                                                                                                                                            []                          Neon Buddha  [Clothing,  Shoes & Jewelry, Women, Clothing, Dresses, Casual, 8% spandex, Gently shaped fit, Drawstring cowl neck plus bold contrast stitching, 92% cotton,  8% spandex, Machine wash, Made fairly in Thailand]                  Clothing                                                                                                                                                                                                                                         The easiest dress ever - slip it on solo or toss it on over a tee and leggings or tights.                                                                                                                                                                          8% spandex                                                                                     10319711                                                                                                                       Neon Buddha Starlit Jumper                     Shoes & Jewelry\n18  B00YGAODGC                                                                                                                                                                                                                                                                                                  [B07GQ9T551, B00YX8PER4, B07GQ92KCR, B07HVT2XXS, B06XSCW9KM, B07GQZZXWH, B01FQWN080]                                                                                                                                                                                                                                                                                                                                                                                                                                                                                                                                                                                                                                                                                                            []                                                                                                                                                                                                                                                     []                                                                                                                                                                                                                                                                                                                                                                                                                                                                                        Featuring an all-over polka dot pattern and a flattering         https://images-na.ssl-images-amazon.com/images/I/51tbEZsk8QL._SR38           2276506                                                                           Allegra K Ladies Round Neck Floral Print Mini Dress XS Navy Blue Beige                                None\n19  B01ANELDFI                                                                                                                                                                                                                                                                                                                                                                                    []                                                                                                                                                                                                                                                                                                                                                                                                                                                              [B01HP2ACEY, B012NQ4KPY, B01MRFLWWE, B01HP2A8G6, B0132ST35Y, B011YUT406, B0743DMGBP, B01AQAKB66, B00PU0EENE, B01EF2Q97G, B01M9ISOHV, B012N3TPW0, B00PE7H1FG, B01N7SR7MI, B071HLQRV8, B01M2CCEMW, B00HUE05I6, B0773JVKNM, B06XRF1LSM, B0027C16H0]                             Insignia                                                                                                                                                                            [Electronics, Computers & Accessories]               Electronics                                                                                                                                         - Insignia Universal 65W Ultrabook Charger for Acer Dell HP Samsung NS-PWLC663<br><br>Low cost shipping in both Canada and the US.<br>New in open package. Tested and guaranteed to work.                                                                                                                                                                                        https://images-na.ssl-images-amazon.com/images/I/411UmG2bB5L._SS40_.jpg  $34.95     27290                                                                     Insignia Universal 65W Ultrabook Charger for Acer Dell HP Samsung NS-PWLC663             Computers & Accessories",
            "text/html": "<div>\n<style scoped>\n    .dataframe tbody tr th:only-of-type {\n        vertical-align: middle;\n    }\n\n    .dataframe tbody tr th {\n        vertical-align: top;\n    }\n\n    .dataframe thead th {\n        text-align: right;\n    }\n</style>\n<table border=\"1\" class=\"dataframe\">\n  <thead>\n    <tr style=\"text-align: right;\">\n      <th></th>\n      <th>asin</th>\n      <th>also_buy</th>\n      <th>also_view</th>\n      <th>brand</th>\n      <th>category</th>\n      <th>main_category</th>\n      <th>description</th>\n      <th>feature</th>\n      <th>image</th>\n      <th>price</th>\n      <th>rank</th>\n      <th>title</th>\n      <th>secondary_category</th>\n    </tr>\n  </thead>\n  <tbody>\n    <tr>\n      <th>0</th>\n      <td>B014LRS176</td>\n      <td>[]</td>\n      <td>[B01LWTYVF6, B00JT3DDJO, B01HT0QFHA, B07DL2D56...</td>\n      <td>QUALIZZI</td>\n      <td>[Home &amp; Kitchen, Seasonal Dcor]</td>\n      <td>Home &amp; Kitchen</td>\n      <td>FAIRY LIGHTS a PACK OF 3 Warm white mini LED l...</td>\n      <td>300 MINI LED Bulbs and Three AC/DC Power Adapt...</td>\n      <td>https://images-na.ssl-images-amazon.com/images...</td>\n      <td>$47.99</td>\n      <td>433688</td>\n      <td>QUALIZZI Fairy Lights Set - String Lights That...</td>\n      <td>Seasonal Dcor</td>\n    </tr>\n    <tr>\n      <th>1</th>\n      <td>B00LCSWV4C</td>\n      <td>[]</td>\n      <td>[]</td>\n      <td>Bula</td>\n      <td>[Sports &amp; Outdoors, Outdoor Recreation, Winter...</td>\n      <td>Sports &amp; Outdoors</td>\n      <td>Sheep wool will never feel itchy against your ...</td>\n      <td>50% MERINO WOOL 50% ACRYLIC</td>\n      <td></td>\n      <td></td>\n      <td>1665627</td>\n      <td>Bula Women's Fiasco Beanie</td>\n      <td>Outdoor Recreation</td>\n    </tr>\n    <tr>\n      <th>2</th>\n      <td>B00IXYFF7S</td>\n      <td>[B00IXYJBAU]</td>\n      <td>[]</td>\n      <td>PTC</td>\n      <td>[Home &amp; Kitchen, Home Dcor, Home Dcor Accents,...</td>\n      <td>Home &amp; Kitchen</td>\n      <td>This gorgeous 6.75 Inch Screaming Werewolf Myt...</td>\n      <td>Perfect gift for those that love Gargoyle</td>\n      <td></td>\n      <td></td>\n      <td>2309232</td>\n      <td>6.75 Inch Screaming Werewolf Mythological Crea...</td>\n      <td>Home Dcor</td>\n    </tr>\n    <tr>\n      <th>3</th>\n      <td>B00HYJJ4Y8</td>\n      <td>[]</td>\n      <td>[]</td>\n      <td>Monster Jam</td>\n      <td>[]</td>\n      <td></td>\n      <td>Off-Road Series</td>\n      <td>1:64</td>\n      <td></td>\n      <td>$9.77</td>\n      <td>866407</td>\n      <td>Hot Wheels Off-Road Monster Jam 2014 New Look ...</td>\n      <td>None</td>\n    </tr>\n    <tr>\n      <th>4</th>\n      <td>B00B5ZWY7G</td>\n      <td>[]</td>\n      <td>[]</td>\n      <td>GeauxRobot</td>\n      <td>[Electronics, Computers &amp; Accessories, Compute...</td>\n      <td>Electronics</td>\n      <td>Compatible with Raspberry Pi V2.0 model. The c...</td>\n      <td>Compatible with Raspberry Pi V2.0</td>\n      <td>https://images-na.ssl-images-amazon.com/images...</td>\n      <td></td>\n      <td>2923</td>\n      <td>GeauxRobot Clear Raspberry Pi Case Box Enclosure</td>\n      <td>Computers &amp; Accessories</td>\n    </tr>\n    <tr>\n      <th>5</th>\n      <td>B0094KW3E8</td>\n      <td>[]</td>\n      <td>[B078HBZ9NH, B07CP1SCCJ, B01M6B9BHX, B07CJQ857...</td>\n      <td></td>\n      <td>[Clothing,  Shoes &amp; Jewelry, Men, Shoes, Athle...</td>\n      <td>Clothing</td>\n      <td></td>\n      <td>&lt;span class=\\a-text-bold\\&gt;Package Dimensions:\\...</td>\n      <td>https://images-na.ssl-images-amazon.com/images...</td>\n      <td></td>\n      <td>6252740</td>\n      <td>Brooks Men's Cascadia 8 Trail Running Shoes, C...</td>\n      <td>Shoes &amp; Jewelry</td>\n    </tr>\n    <tr>\n      <th>6</th>\n      <td>B00JBD2CSK</td>\n      <td>[B00N5WOP38, B00A6SP5EC, B00N5WP8UM, B00N5WPAY...</td>\n      <td>[]</td>\n      <td>Mattel</td>\n      <td>[Toys &amp; Games, Toy Remote Control &amp; Play Vehic...</td>\n      <td>Toys &amp; Games</td>\n      <td>Favorite characters from Disney/Pixar Cars and...</td>\n      <td>Enchanting die-cast assortment gives kids the ...</td>\n      <td>https://images-na.ssl-images-amazon.com/images...</td>\n      <td>$9.97</td>\n      <td>457770</td>\n      <td>Mattel Disney/Pixar Cars Nigel Gearsley Diecas...</td>\n      <td>Toy Remote Control &amp; Play Vehicles</td>\n    </tr>\n    <tr>\n      <th>7</th>\n      <td>B009K6TDQW</td>\n      <td>[]</td>\n      <td>[B00012NJIC, B00172XUWU, B0013OQJ66, B0043ZLTT...</td>\n      <td>Adiosa</td>\n      <td>[]</td>\n      <td></td>\n      <td></td>\n      <td></td>\n      <td>https://images-na.ssl-images-amazon.com/images...</td>\n      <td>$16.69</td>\n      <td>56513</td>\n      <td>Adiosa Calcium Citrate with Black Current for ...</td>\n      <td>None</td>\n    </tr>\n    <tr>\n      <th>8</th>\n      <td>B00G6UW8OO</td>\n      <td>[]</td>\n      <td>[]</td>\n      <td>Opl auto parts</td>\n      <td>[Automotive, Exterior Accessories, Towing Prod...</td>\n      <td>Automotive</td>\n      <td>Designed to handle what drivers who push their...</td>\n      <td>Aluminum Universal 7 Row Transmission/Oil Cool...</td>\n      <td>https://images-na.ssl-images-amazon.com/images...</td>\n      <td>$22.00</td>\n      <td>2013242</td>\n      <td>OPL HPO014 Universal Aluminum Oil Cooler</td>\n      <td>Exterior Accessories</td>\n    </tr>\n    <tr>\n      <th>9</th>\n      <td>1592336019</td>\n      <td>[1401942822, 1401951260, 1401947832, 161212433...</td>\n      <td>[1612124259, 1623155282, 1401951260, 161564150...</td>\n      <td>Meg Thompson</td>\n      <td>[Books, Cookbooks,  Food &amp; Wine, Cooking by In...</td>\n      <td>Books</td>\n      <td>Meg Thompson is a naturopath</td>\n      <td></td>\n      <td></td>\n      <td>$9.96</td>\n      <td>641529</td>\n      <td>Superfoods for Life, Cultured and Fermented Be...</td>\n      <td>Cookbooks</td>\n    </tr>\n    <tr>\n      <th>10</th>\n      <td>B00T9VMBBW</td>\n      <td>[]</td>\n      <td>[]</td>\n      <td>Believe Gifts</td>\n      <td>[Clothing,  Shoes &amp; Jewelry, Women, Jewelry, B...</td>\n      <td>Clothing</td>\n      <td>Daughter Heart Dangle Charm Bead will fit Euro...</td>\n      <td>Daughter Heart Dangle Charm Bead will fit Euro...</td>\n      <td></td>\n      <td></td>\n      <td>7618995</td>\n      <td>Daughter Heart Dangle Charm Bead fits European...</td>\n      <td>Shoes &amp; Jewelry</td>\n    </tr>\n    <tr>\n      <th>11</th>\n      <td>B0027J3JGY</td>\n      <td>[]</td>\n      <td>[B071L2VN2N, B0002DJ4GQ, B004148Q8E, B004HSOUE...</td>\n      <td>Aqueon</td>\n      <td>[Pet Supplies, Fish &amp; Aquatic Pets, Aquariums ...</td>\n      <td>Pet Supplies</td>\n      <td>Easy-to-use starter kit that contains the nece...</td>\n      <td>Kit Includes Everything You Need To Get Started</td>\n      <td>https://images-na.ssl-images-amazon.com/images...</td>\n      <td></td>\n      <td>590266</td>\n      <td>Aqueon AQE100001848 16-Bow Front Deluxe Kit fo...</td>\n      <td>Fish &amp; Aquatic Pets</td>\n    </tr>\n    <tr>\n      <th>12</th>\n      <td>B0188HYYSK</td>\n      <td>[]</td>\n      <td>[]</td>\n      <td>T Shirts Funny</td>\n      <td>[]</td>\n      <td></td>\n      <td></td>\n      <td>&lt;span class=\\a-text-bold\\&gt;ASIN:\\n             ...</td>\n      <td>https://images-na.ssl-images-amazon.com/images...</td>\n      <td></td>\n      <td>3669508</td>\n      <td>The Man Behind The Bump Short Sleeve T-Shirt</td>\n      <td>None</td>\n    </tr>\n    <tr>\n      <th>13</th>\n      <td>099045262X</td>\n      <td>[1945953039, 1612541925]</td>\n      <td>[]</td>\n      <td>Visit Amazon's Kalliope Barlis Page</td>\n      <td>[Books, Sports &amp; Outdoors, Biographies]</td>\n      <td>Books</td>\n      <td>Kalliope Barlis picked up a golf club for the ...</td>\n      <td></td>\n      <td></td>\n      <td>$13.36</td>\n      <td>2101010</td>\n      <td>Play Golf Better Faster: The Classic Guide to ...</td>\n      <td>Sports &amp; Outdoors</td>\n    </tr>\n    <tr>\n      <th>14</th>\n      <td>B00OEZOO72</td>\n      <td>[B00TS8MBN4]</td>\n      <td>[]</td>\n      <td>Hitachi</td>\n      <td>[Tools &amp; Home Improvement, Power &amp; Hand Tools,...</td>\n      <td>Tools &amp; Home Improvement</td>\n      <td>Hitachi Power Tools (Hitachi Koki USA</td>\n      <td>Genuine Hitachi power tool replacement part</td>\n      <td>https://images-na.ssl-images-amazon.com/images...</td>\n      <td>$1.41</td>\n      <td>1037058</td>\n      <td>Hitachi 882674 Replacement Part for Magazine A...</td>\n      <td>Power &amp; Hand Tools</td>\n    </tr>\n    <tr>\n      <th>15</th>\n      <td>B006P6U6MK</td>\n      <td>[]</td>\n      <td>[]</td>\n      <td>Tiesto</td>\n      <td>[Electronics, Accessories &amp; Supplies, Audio &amp; ...</td>\n      <td>Electronics</td>\n      <td>2 Pcs of 3.5 mm Male/Female Stereo Audio Exten...</td>\n      <td>2 Pcs of 3.5 mm Male/Female Stereo Audio Exten...</td>\n      <td></td>\n      <td></td>\n      <td>9692</td>\n      <td>2 Pcs of 3.5 mm Male/Female Stereo Audio Exten...</td>\n      <td>Accessories &amp; Supplies</td>\n    </tr>\n    <tr>\n      <th>16</th>\n      <td>B0168ECBZ8</td>\n      <td>[]</td>\n      <td>[]</td>\n      <td>Capwell + Co.</td>\n      <td>[Clothing,  Shoes &amp; Jewelry, Novelty &amp; More, J...</td>\n      <td>Clothing</td>\n      <td></td>\n      <td>Imported</td>\n      <td>https://images-na.ssl-images-amazon.com/images...</td>\n      <td></td>\n      <td>8732271</td>\n      <td>Capwell + Co. Floral Cluster Stud Earrings</td>\n      <td>Shoes &amp; Jewelry</td>\n    </tr>\n    <tr>\n      <th>17</th>\n      <td>B00E4UF5HU</td>\n      <td>[]</td>\n      <td>[]</td>\n      <td>Neon Buddha</td>\n      <td>[Clothing,  Shoes &amp; Jewelry, Women, Clothing, ...</td>\n      <td>Clothing</td>\n      <td>The easiest dress ever - slip it on solo or to...</td>\n      <td>8% spandex</td>\n      <td></td>\n      <td></td>\n      <td>10319711</td>\n      <td>Neon Buddha Starlit Jumper</td>\n      <td>Shoes &amp; Jewelry</td>\n    </tr>\n    <tr>\n      <th>18</th>\n      <td>B00YGAODGC</td>\n      <td>[B07GQ9T551, B00YX8PER4, B07GQ92KCR, B07HVT2XX...</td>\n      <td>[]</td>\n      <td></td>\n      <td>[]</td>\n      <td></td>\n      <td></td>\n      <td>Featuring an all-over polka dot pattern and a ...</td>\n      <td>https://images-na.ssl-images-amazon.com/images...</td>\n      <td></td>\n      <td>2276506</td>\n      <td>Allegra K Ladies Round Neck Floral Print Mini ...</td>\n      <td>None</td>\n    </tr>\n    <tr>\n      <th>19</th>\n      <td>B01ANELDFI</td>\n      <td>[]</td>\n      <td>[B01HP2ACEY, B012NQ4KPY, B01MRFLWWE, B01HP2A8G...</td>\n      <td>Insignia</td>\n      <td>[Electronics, Computers &amp; Accessories]</td>\n      <td>Electronics</td>\n      <td>- Insignia Universal 65W Ultrabook Charger for...</td>\n      <td></td>\n      <td>https://images-na.ssl-images-amazon.com/images...</td>\n      <td>$34.95</td>\n      <td>27290</td>\n      <td>Insignia Universal 65W Ultrabook Charger for A...</td>\n      <td>Computers &amp; Accessories</td>\n    </tr>\n  </tbody>\n</table>\n</div>"
          },
          "metadata": {}
        }
      ],
      "execution_count": 19,
      "metadata": {
        "jupyter": {
          "source_hidden": false,
          "outputs_hidden": false
        },
        "nteract": {
          "transient": {
            "deleting": false
          }
        }
      }
    },
    {
      "cell_type": "code",
      "source": [
        "df_pandas.nunique(axis=0)"
      ],
      "outputs": [
        {
          "output_type": "display_data",
          "data": {
            "application/vnd.livy.statement-meta+json": {
              "spark_pool": "synsp03",
              "session_id": "9",
              "statement_id": 21,
              "state": "finished",
              "livy_statement_state": "available",
              "queued_time": "2023-07-29T00:40:07.4077502Z",
              "session_start_time": null,
              "execution_start_time": "2023-07-29T00:41:25.4161025Z",
              "execution_finish_time": "2023-07-29T00:44:15.7413435Z",
              "spark_jobs": null,
              "parent_msg_id": "014424b7-4c7b-478e-a841-e16d54cb0f4b"
            },
            "text/plain": "StatementMeta(synsp03, 9, 21, Finished, Available)"
          },
          "metadata": {}
        },
        {
          "output_type": "stream",
          "name": "stderr",
          "text": [
            "/opt/spark/python/lib/pyspark.zip/pyspark/pandas/internal.py:1573: FutureWarning: iteritems is deprecated and will be removed in a future version. Use .items instead.\n  fields = [\n/opt/spark/python/lib/pyspark.zip/pyspark/sql/pandas/conversion.py:604: FutureWarning: iteritems is deprecated and will be removed in a future version. Use .items instead.\n  [(c, t) for (_, c), t in zip(pdf_slice.iteritems(), arrow_types)]\n"
          ]
        },
        {
          "output_type": "execute_result",
          "execution_count": 43,
          "data": {
            "text/plain": "also_view              4326054\nbrand                  2307902\ndescription            7090681\nfeature                3687210\nrank                   6402836\ntitle                 14127828\nasin                  14741571\nalso_buy               3612263\ncategory               1475085\nmain_category               30\nimage                  5486399\nprice                   236142\nsecondary_category         574\ndtype: int64"
          },
          "metadata": {}
        }
      ],
      "execution_count": 20,
      "metadata": {
        "jupyter": {
          "source_hidden": false,
          "outputs_hidden": false
        },
        "nteract": {
          "transient": {
            "deleting": false
          }
        }
      }
    },
    {
      "cell_type": "code",
      "source": [
        "print(df_pandas['main_category'].unique())\r\n",
        "print(df_pandas['main_category'].value_counts())"
      ],
      "outputs": [
        {
          "output_type": "display_data",
          "data": {
            "application/vnd.livy.statement-meta+json": {
              "spark_pool": "synsp03",
              "session_id": "9",
              "statement_id": 27,
              "state": "finished",
              "livy_statement_state": "available",
              "queued_time": "2023-07-29T00:49:07.5474181Z",
              "session_start_time": null,
              "execution_start_time": "2023-07-29T00:49:07.6842193Z",
              "execution_finish_time": "2023-07-29T00:49:28.7555832Z",
              "spark_jobs": null,
              "parent_msg_id": "c70fe804-65ad-4e7a-af0c-1b3ee88ed5a7"
            },
            "text/plain": "StatementMeta(synsp03, 9, 27, Finished, Available)"
          },
          "metadata": {}
        },
        {
          "output_type": "stream",
          "name": "stdout",
          "text": [
            "0                  Alexa Skills\n1                Home & Kitchen\n2                  Pet Supplies\n3                  Toys & Games\n4                         Patio\n5             Sports & Outdoors\n6                   Electronics\n7                   Video Games\n8                      Clothing\n9                   CDs & Vinyl\n10                   Automotive\n11                        Books\n12      Industrial & Scientific\n13    Cell Phones & Accessories\n14       Magazine Subscriptions\n15                         Arts\n16                     Software\n17     Tools & Home Improvement\n18                  Movies & TV\n19                 Kindle Store\n20       Grocery & Gourmet Food\n21              Office Products\n22                   Appliances\n23      Collectibles & Fine Art\n24     Home & Business Services\n25          Musical Instruments\n26                             \n27                   Gift Cards\n28                     Handmade\n29                Digital Music\nName: main_category, dtype: object\nClothing                     2681184\nBooks                        2543936\nHome & Kitchen               1285392\n                             1249061\nAutomotive                    891307\nSports & Outdoors             889227\nElectronics                   756077\nToys & Games                  562932\nCell Phones & Accessories     533871\nTools & Home Improvement      532338\nKindle Store                  491670\nCDs & Vinyl                   412325\nOffice Products               290178\nArts                          284304\nGrocery & Gourmet Food        283354\nPatio                         276332\nPet Supplies                  182168\nMovies & TV                   181643\nIndustrial & Scientific       157620\nMusical Instruments           106489\nVideo Games                    69820\nAppliances                     29434\nCollectibles & Fine Art        26673\nSoftware                       19696\nMagazine Subscriptions          1878\nGift Cards                      1542\nAlexa Skills                     927\nHome & Business Services         179\nDigital Music                      7\nHandmade                           7\nName: main_category, dtype: int64\n"
          ]
        }
      ],
      "execution_count": 26,
      "metadata": {
        "jupyter": {
          "source_hidden": false,
          "outputs_hidden": false
        },
        "nteract": {
          "transient": {
            "deleting": false
          }
        }
      }
    },
    {
      "cell_type": "markdown",
      "source": [
        "## Let's focus on Automotive category"
      ],
      "metadata": {
        "nteract": {
          "transient": {
            "deleting": false
          }
        }
      }
    },
    {
      "cell_type": "code",
      "source": [
        "display(df.where('main_category = \"Automotive\"').groupBy('secondary_category').count().orderBy(F.col('count').desc()))"
      ],
      "outputs": [
        {
          "output_type": "display_data",
          "data": {
            "application/vnd.livy.statement-meta+json": {
              "spark_pool": "synsp03",
              "session_id": "9",
              "statement_id": 33,
              "state": "finished",
              "livy_statement_state": "available",
              "queued_time": "2023-07-29T00:57:47.25658Z",
              "session_start_time": null,
              "execution_start_time": "2023-07-29T00:57:47.4178131Z",
              "execution_finish_time": "2023-07-29T00:58:15.063822Z",
              "spark_jobs": null,
              "parent_msg_id": "bc582f89-70db-4dbc-ab90-6eb7062a119a"
            },
            "text/plain": "StatementMeta(synsp03, 9, 33, Finished, Available)"
          },
          "metadata": {}
        },
        {
          "output_type": "display_data",
          "data": {
            "application/vnd.synapse.widget-view+json": {
              "widget_id": "fdd62ac5-99a4-4fdd-a099-84b1f8acec8e",
              "widget_type": "Synapse.DataFrame"
            },
            "text/plain": "SynapseWidget(Synapse.DataFrame, fdd62ac5-99a4-4fdd-a099-84b1f8acec8e)"
          },
          "metadata": {}
        }
      ],
      "execution_count": 32,
      "metadata": {
        "jupyter": {
          "source_hidden": false,
          "outputs_hidden": false
        },
        "nteract": {
          "transient": {
            "deleting": false
          }
        },
        "collapsed": false
      }
    },
    {
      "cell_type": "markdown",
      "source": [
        "### Cleaning secondary category"
      ],
      "metadata": {
        "nteract": {
          "transient": {
            "deleting": false
          }
        }
      }
    },
    {
      "cell_type": "code",
      "source": [
        "df = (\r\n",
        "    df.where('main_category = \"Automotive\"')\r\n",
        "    .withColumn('secondary_category', \r\n",
        "        F.regexp_replace(F.col('secondary_category'), 'amp;', '')\r\n",
        "    )\r\n",
        ")\r\n",
        "\r\n",
        "display(df.groupBy('secondary_category').count().orderBy(F.col('count').desc()))"
      ],
      "outputs": [
        {
          "output_type": "display_data",
          "data": {
            "application/vnd.livy.statement-meta+json": {
              "spark_pool": "synsp03",
              "session_id": "9",
              "statement_id": 38,
              "state": "finished",
              "livy_statement_state": "available",
              "queued_time": "2023-07-29T01:08:01.5400784Z",
              "session_start_time": null,
              "execution_start_time": "2023-07-29T01:08:40.5240759Z",
              "execution_finish_time": "2023-07-29T01:08:42.3657668Z",
              "spark_jobs": null,
              "parent_msg_id": null
            },
            "text/plain": "StatementMeta(synsp03, 9, 38, Finished, Available)"
          },
          "metadata": {}
        },
        {
          "output_type": "display_data",
          "data": {
            "application/vnd.synapse.widget-view+json": {
              "widget_id": "ef3b5529-b57c-41c2-91e9-60a4d2a4ed8c",
              "widget_type": "Synapse.DataFrame"
            },
            "text/plain": "SynapseWidget(Synapse.DataFrame, ef3b5529-b57c-41c2-91e9-60a4d2a4ed8c)"
          },
          "metadata": {}
        }
      ],
      "execution_count": 34,
      "metadata": {
        "jupyter": {
          "source_hidden": false,
          "outputs_hidden": false
        },
        "nteract": {
          "transient": {
            "deleting": false
          }
        },
        "collapsed": false
      }
    },
    {
      "cell_type": "code",
      "source": [
        "df_pandas_automotive = df.pandas_api()\r\n",
        "df_pandas_automotive.nunique(axis=0)"
      ],
      "outputs": [
        {
          "output_type": "display_data",
          "data": {
            "application/vnd.livy.statement-meta+json": {
              "spark_pool": "synsp03",
              "session_id": "9",
              "statement_id": 42,
              "state": "finished",
              "livy_statement_state": "available",
              "queued_time": "2023-07-29T01:19:14.8781439Z",
              "session_start_time": null,
              "execution_start_time": "2023-07-29T01:19:15.0736706Z",
              "execution_finish_time": "2023-07-29T01:20:17.9869889Z",
              "spark_jobs": null,
              "parent_msg_id": "9c3e6149-2783-4a32-92ef-248989633cf9"
            },
            "text/plain": "StatementMeta(synsp03, 9, 42, Finished, Available)"
          },
          "metadata": {}
        },
        {
          "output_type": "stream",
          "name": "stderr",
          "text": [
            "/opt/spark/python/lib/pyspark.zip/pyspark/pandas/internal.py:1573: FutureWarning: iteritems is deprecated and will be removed in a future version. Use .items instead.\n  fields = [\n/opt/spark/python/lib/pyspark.zip/pyspark/sql/pandas/conversion.py:604: FutureWarning: iteritems is deprecated and will be removed in a future version. Use .items instead.\n  [(c, t) for (_, c), t in zip(pdf_slice.iteritems(), arrow_types)]\n"
          ]
        },
        {
          "output_type": "execute_result",
          "execution_count": 81,
          "data": {
            "text/plain": "also_view             203948\nbrand                  36100\ndescription           372159\nfeature               291380\nrank                  796667\ntitle                 878068\nasin                  891307\nalso_buy              150559\ncategory                5685\nmain_category              1\nimage                 337546\nprice                  34545\nsecondary_category        15\ndtype: int64"
          },
          "metadata": {}
        }
      ],
      "execution_count": 38,
      "metadata": {
        "jupyter": {
          "source_hidden": false,
          "outputs_hidden": false
        },
        "nteract": {
          "transient": {
            "deleting": false
          }
        },
        "collapsed": false
      }
    },
    {
      "cell_type": "code",
      "source": [
        "df_pandas_automotive.head(20)"
      ],
      "outputs": [
        {
          "output_type": "display_data",
          "data": {
            "application/vnd.livy.statement-meta+json": {
              "spark_pool": "synsp03",
              "session_id": "9",
              "statement_id": 43,
              "state": "finished",
              "livy_statement_state": "available",
              "queued_time": "2023-07-29T01:19:21.7998863Z",
              "session_start_time": null,
              "execution_start_time": "2023-07-29T01:20:18.2158603Z",
              "execution_finish_time": "2023-07-29T01:21:12.7826929Z",
              "spark_jobs": null,
              "parent_msg_id": "a77198a2-20fa-4bfd-a9ea-0c2a2ee4d516"
            },
            "text/plain": "StatementMeta(synsp03, 9, 43, Finished, Available)"
          },
          "metadata": {}
        },
        {
          "output_type": "execute_result",
          "execution_count": 83,
          "data": {
            "text/plain": "          asin                                                                              also_buy                                                                                                                                                                                                                             also_view                      brand                                                                                                                              category main_category                                                                                                                                                                                                                                                                                                                                                                                                                                                                                                                                                                                                                                                                                                                                                                                                                                                                                                                            description                                                                                                                                                                                                                                                        feature                                                                      image    price     rank                                                                                                                                title             secondary_category\n0   B01A7MLV1W  [B00VAVSJTC, B00HHGRXA0, B00M07GQO0, B01H06M7QG, B000C9OMTE, B016V3U88S, B008OVQL9G]                                                                                                                                                                                                                                    []            Parts Warehouse                                     [Automotive, Replacement Parts, Shocks,  Struts & Suspension, Control Arms & Parts, Control Arms]    Automotive                                                                                                                                                                                                                                                                                                                                                                                                                                                                                                                                                                                                                                                                                                                                                                                                                                                                  14 Piece Kit Control Arms Ball Joints Tie Rod Ends Sway Bar End Links                                                                                                                                                                                Outer Tie Rod Fit Vehicles W/16 mm Threads Only Chevrolet Trailblazer 2002-2003    https://images-na.ssl-images-amazon.com/images/I/41vPh-mnICL._SS40_.jpg   $15.22   608348        PartsW 14 Piece Kit Control Arms Ball Joints Tie Rod Ends Sway Bar End Links, Outer Tie Rod Fit Vehicles W/16 mm Threads Only              Replacement Parts\n1   B001A0B7BK                                                                                    []                                                                                                                                                                                                                                    []                        TYC  [Automotive, Lights & Lighting Accessories, Lighting Assemblies & Accessories, Brake & Tail Light Assemblies, Tail Light Assemblies]    Automotive                                                                                                                                                                                                                                                                                                                                                                                                                                                                                                                                                                                                                                                                                                                                                                                                                                                     05-08 CHEVY UPLANDER MONTANA RIGHT TAIL LIGHT PARTSLINK # GM2801183 OEM # 15787132                                                                                                                                                                                                                                          PARTSLINK # GM2801183                                                                              $48.90     1574                                                                                        05-08 CHEVY UPLANDER MONTANA RIGHT TAIL LIGHT  Lights & Lighting Accessories\n2   B00MJV1ZA2                                                                                    []                                                                                                                                                                                                                                    []              Cavagna Group                                                              [Automotive, RV Parts & Accessories, Furnishings & Interior Accessories]    Automotive                                                                                                                                                                                                                                                                                                                                                                                                                                                                                                                                                                                                                                                                     Inlet Size: 1/4 Inch <br>Number Of Stages: 1 <br>Outlet Size: 3/8 Inch <br>Inlet Attachment Type: Female Threads <br>Outlet Attachment Type: Female Threads <br>Outlet Pressure: 11 Inch WC <br>With Shut Off Valve: No <br>With Hose: No <br>RV Approved: No</br>  Propane Regulator; Without Shutoff Valve; 1/4 Inch Female NPT Inlet x 3/8 Inch Female NPT Outlet; Outlet Pressure 11 Inch WC (Water Column); Single Stage; Not Approved For RV use; UL And CSA Listed; Single; Box Package; Also Use New Number 69-A-890-0002    https://images-na.ssl-images-amazon.com/images/I/31CxD5eAP-L._SS40_.jpg           5434851                                               Cavagna Group 69-C-890-0033B RV Trailer Camper Lp Gas Single Stage Lp 10 Psi Regulator         RV Parts & Accessories\n3   B0014YFB6O                                                                                    []  [B01F8E4IX2, B00G1FWOUC, B007HRUSGA, B071HLHYHH, B072PCJ3YR, B00NP41YB2, B00OCLNH80, B07FLMZ9Q7, B004A6GEOG, B007HRUQVM, B000CRKONY, B06XDD9YV7, B00C5SQ1CQ, B07G1TV4MH, B01N0QZ80Q, B01FVXBJSW, B000CFGU98, B0009IK5XA, B0711JBD2Q]                       Anco                                                          [Automotive, Replacement Parts, Windshield Wipers & Washers, Wipers, Blades]    Automotive                                                                                                                                                                                                                                                                                                                                                                                                                                                                                                                                                                                                                                                                                                     Anco Heavy Duty Specialty Wiper Blades feature a vented bridge and metal flexor for original equipment fit and function. These blades use a DuraKlear rubber compound to provide consistent and clean wipe. They feature a natural                                                                                                                                                                                                                                             Features a natural                                                                              $27.03   694399                                                                                      Anco 5032 Heavy Duty Specialty Wiper - 32&quot;              Replacement Parts\n4   B000WJ6LVQ                                                                                    []                                                                                                                                                  [B0058PFNT0, B017C0SZL6, B0052XN2ZA, B07DT4ZPJ5, B00B26JDY0, B00GMNL8LO, B00GMNL36E]                         AJ                                                    [Automotive, Replacement Parts, Exhaust &amp; Emissions, Exhaust Pipes &amp; Tips]    Automotive                                                                                                                                                                                                                                                                                                                                                                                 Add style to your vehicle and say good bye to the dull unappealing stock exhaust tip.  This aftermarket exhaust tip is made from stainless steel which will never chip or peel.  It has gone through 5 stage polish process so the shine will never fade with easy regular maintained.  The installation is also a breeze.  Just slip the exhaust tip over the existing factory tip then screw down the bolt and that is it.    Demenisions:  Inlet: 2 29/32 inlet; Tip size: 3 5/8 inch; Lenght: 6 7/8 inches long    *This is an aftermarket product                                                                                                                                                                                                                                                Stainless steel    https://images-na.ssl-images-amazon.com/images/I/417KccQ0RWL._SS40_.jpg   $43.98  1432943                                                             Stainless steel exhaust tip w/ mirror chrome finish -Toyota Tacoma 95-04              Replacement Parts\n5   B00D6N0CTW                                                                                    []                                                                                                                                                                                                                                    []                  AutoSmart                                                                     [Automotive, Lights & Lighting Accessories, Bulbs, Marker Lights]    Automotive                                                                                                                                                                                                                                                                                                                                                                                                                                                                                                                                                                                                                                                                                                                                                                                                                                                                          These oval shaped LED lighting product functions as clearance                                                                                                                                                                                                              Polycarbonate lens is sonic welded to the housing  https://images-na.ssl-images-amazon.com/images/I/317MFvad%2BYL._SS40_.jpg   $13.99  2020319               SET OF 4 AutoSmart KL-15114C-AE 2&quot; Amber Oval LED Clearance/Side Marker Light with Chrome Bezel for TRUCK TRAILER  Lights & Lighting Accessories\n6   B00KCXR0YO                                                                                    []                                                                                                                                                                                                                                    []        Football Stars Ltd.                                                                [Automotive, Exterior Accessories, Bumper Stickers,  Decals & Magnets]    Automotive                                                                                                                                                                                                                                                                                                                                                                                                                                                                                                                                                                                                                                                                                                                                                                   Show them you are a true fan with this sticker! Indoor or outdoor use. Just peel and stick - easy to use - goes on smooth and stays on for years. Use on car windows                                                                                                                                                                                                                                     Size: 5\\ x 4\\ (13 x 10 cm)                                                                               $3.89   407871                                                                Sheffield FC - England Football Soccer Futbol - Car Sticker - 5&quot;           Exterior Accessories\n7   B01APE90W4                                                                                    []                                                                                                                                                                                                                                    []                     Fusion                                                                    [Automotive, Replacement Parts, Lighting & Electrical, Electrical]    Automotive                                                                                                                                                                                                                                                                                                                                                                                                                                                                                                                                                                                                                                                                                                                                                                                                 FORD Fusion N5F-A08TAA FLIP KEY KEYLESS REMOTE ENTRY CLICKER W/ NEW KEY BLADE. 2013 - 2016 Ford Fusion FCC: N5F-A08TAA OE #: 164-R7986                                                                                                                                                                                                                                        2013 - 2016 Ford Fusion                                                                                        13404                                                        FORD Fusion N5F-A08TAA FLIP KEY KEYLESS REMOTE ENTRY CLICKER W/ NEW KEY BLADE              Replacement Parts\n8   B002656VMS                                                                                    []                                                                                                                                                              [B002659W0Q, B00265E1NE, B07DGTFF3K, B003VASHYC, B01MXDPNHH, B004RCSUMC]  Progressive International                                                                                   [Automotive, Lights & Lighting Accessories, Lenses]    Automotive                                                                                                                                                                                                                                                                                                                                                                                                                                                                                                                                                                                                                                                                                                                                                                                                                                                                                                              Progressive Dynamic PD304                                                                                                                                                                                                               Lights 2Pk Optic Lens Pd304 Progressive Dynamics                                                                              $11.55   141817                                                                                  Progressive Dynamics PD304 Replacement Frosted Lens  Lights & Lighting Accessories\n9   B00ZC1RCHQ                                                                                    []                                                                                                                                                                                                                                    []                 ARANA -Key                                                                                         [Automotive, Interior Accessories, Keychains]    Automotive                                                                                                                                                                                                                                                                                                                                                                                                                                                                                                                                                                                                                                                                                                                                                                                                                                                                                                                                                                                                                                                                                                                                                                                                          https://images-na.ssl-images-amazon.com/images/I/412cR1bXEzL._SS40_.jpg           1863138  Sky Blue Smart Keyless Enrty Remote Key Fob Case Shell Decorate Metal Trim Ring for BMW Mini Cooper JCW R55 R56 R57 R58 R59 R60 08+           Interior Accessories\n10  B001UFRVUG                                                                                    []                                                                                                                                                                                      [B007KPERVG, B003LFDSHS, B00P2VL6CS, B000C9GYOA]                    Hellwig                                           [Automotive, Replacement Parts, Shocks,  Struts & Suspension, Sway Bars & Parts, Sway Bars]    Automotive                                                                                                                                                                                                                                                                                                                                                                                                                                                                                                                  Hellwig sway bar reduces body roll so you benefit from better vehicle control and greatly improved cornering traction for safer driving and cornering capabilities. Fast easy bolt on installation backed with a lifetime warranty. Every Hellwig sway bar is engineered and developed for your specific application and includes high tech polyurethane bushings. It has high quality 4140 chrome moly spring steel.                                                                                                                                                                                                 Fast easy bolt on installation backed with a lifetime warranty                                                                              $63.71   375178                                                                                                           Hellwig 7608 Rear Sway Bar              Replacement Parts\n11  B0022ZYS2C                                                                          [B000GTTQZA]                                                                                                                                                                                                                                    []                  All Balls                                                                  [Automotive, Motorcycle & Powersports, Parts, Drive Train, Bearings]    Automotive  Honda CB1000 1994 - 1995<br>Honda CB750 Nighthawk 1991 - 2003<br>Honda CBR1000F 1987 - 1988<br>Honda CBR400 1991 - 1998<br>Honda CBR600F 1987 - 1990<br>Honda CBR600F2 1991 - 1994<br>Honda CBR900RR 1993 - 1994<br>Honda GL1500 1988 - 1990<br>Honda GL1500A 1991 - 2000<br>Honda GL1500C 1997<br>Honda GL1500CT 1997<br>Honda GL1500I 1991 - 1996<br>Honda GL1500S 1990 - 1991<br>Honda GL1500SE 1990 - 2000<br>Honda NT650 (Euro) 1988 - 1991<br>Honda NT650 GT 1988 - 1991<br>Honda NTV 650 (Euro) 1992 - 1996<br>Honda PC800 Pacific Coast 1989 - 1998<br>Honda ST1100 1991 - 1996<br>Honda ST1100A 1992 - 1996<br>Honda VF750C 1994 - 1997<br>Honda VF750C2 1997<br>Honda VF750CD 1995 - 1996<br>Honda VFR700 Interceptor 1986 - 1987<br>Honda VFR750F 1986 - 1997<br>Honda VT1100C 1987 - 1997<br>Honda VT1100C2 1995 - 1997<br>Honda VT600C Shadow 1988 - 2007<br>Honda VT600CD 1993 - 2007<br>Honda VT600CD2 1999 - 2000<br>                                                                                                                                                                                                                                      Contains: 2 Ball Bearings                                                                              $16.32   992213                                                                                                &quot;All Balls 25-1077 Honda VF 750C       Motorcycle & Powersports\n12  B00UN2BDHE                                                                                    []                                                                                                                                                                                                                          [B00UL6GH64]                     Dragon                                                                 [Automotive, Interior Accessories, Anti-Theft, Keyless Entry Systems]    Automotive                                                                                                                                                                                                                                                                                                                                                                                                                                                                                                                                                                                                                                                Product This auction features one brand new Genuine Leather Key Fob with stitching thread. ( Key not included ) This kind of will give you the real touch and luxury look &amp; high stylish and fashionable elegant taste. Fitment As long as your key is exactly like the picture one                                                                                                                                                                                                    Fitment As long as your key is exactly like the picture one    https://images-na.ssl-images-amazon.com/images/I/51fDVWHTz4L._SS40_.jpg             23486                          Leather Key fob Holder Case Chain Cover FIT For BMW X5 xDrive 35i 50i 25d 2015 BMW X1 X3 X4 X5 X6 LBM06-7-A           Interior Accessories\n13  B001HR280K                                                                                    []                                                                                                                                                                                                                                    []               Victor Reinz                                                 [Automotive, Replacement Parts, Gaskets, Valve Cover & Stem, Valve Cover Gasket Sets]    Automotive                                                                                                                                                                                                                                                                                                                                                                                                                                                                                                                                                                                                                                                                                                                                                                                                     Victor Reinz Valve Cover Gasket Set - Includes (4) 11 12 7 513 066 spark plug well seals.; 2002-2006 Mini Cooper; 2007 Mini Cooper                                                                                                                                                                                                                                                                                                                                                     1411934                                                                                                  Victor Reinz Valve Cover Gasket Set              Replacement Parts\n14  B000EOIQHQ                                                                                    []                                                                                                                                                                                                                                    []                Beck Arnley                                           [Automotive, Replacement Parts, Engines & Engine Parts, Engine Parts, Timing Parts, Idlers]    Automotive                                                                                                                                                                                                                                                                                                                                                                                                                                                                                                                                                                                                                                                                                                             Beck/Arnley's strategy of sourcing using the basis of Application Specific Sourcing is the focus of our 024 Series- Timing category. We search the globe looking for those suppliers who can supply us the highest quality                                                                                                                                                                                                                                                Matches OE form                                                                              $50.98  2050034                                                                                           Beck Arnley 024-1075 Timing Belt Tensioner              Replacement Parts\n15  B00IJJA2F2                          [B00U6HKU20, B00Z8NYPGO, B00CMZB04G, B00IDHW1XG, B00D11F78A]                                                                                                                                                                                                                                    []                    Caltric                               [Automotive, Replacement Parts, Transmission & Drive Train, Universal Joints & Parts, Universal Joints]    Automotive                                                                                                                                                                                                                                                                                                                                                                                                                                                                                                                                                                                                                                                                                                                                                                                                                                                 Used on: POLARIS 500 SPORTSMAN 4X4 1998-2001 FRONT AXLE LOCATION ON THE PIC : NUMBER 1                                                                                                                                                                                                                                                                   https://images-na.ssl-images-amazon.com/images/I/41wJb9Ve2iL._SS40_.jpg   $13.00  1217944                                Caltric U-JOINT KIT Fits POLARIS SPORTSMAN 500 4X4 1998 1999 2000 2001 FRONT AXLE BTB UNIVERSAL JOINT              Replacement Parts\n16  B00279MWLM                                                  [B00O6WPVXY, B005QZ596Y, B001NZZAGU]                                                                                                                                                                                                                                    []            Spectra Premium                                           [Automotive, Replacement Parts, Fuel System, Fuel Pumps & Accessories, Electric Fuel Pumps]    Automotive                                                                                                                                                                                                                                                                                                                                                                                                                                                                                                                                                                                                                                                                                                                                                                                                                                                                                                                 Innovative engineering                                                                                                                                                                                                                                         Innovative engineering    https://images-na.ssl-images-amazon.com/images/I/41q8XCTud1L._SS40_.jpg  $217.78   702126                                                                           Spectra Premium SP6242M Fuel Pump Module for Chevrolet/GMC              Replacement Parts\n17  B016YG1AL6                                                                                    []                                                                                                                                                                                                                          [B016YG15RA]              T-Rex Grilles                                                                           [Automotive, Replacement Parts, Body & Trim, Body, Grilles]    Automotive                                                                                                                                                                                                                                                                                                                                                                                                                                                                                                                                                                                                T-REX grilles are manufactured from the finest materials using the most modern CNC equipment. All T-REX grilles are designed and are hand assembled in the USA and feature high quality polyurethane powder coating or are hand polished to a high luster and carry a limited lifetime structural and a limited 3 year finish warranty.                                                                                                                                                                                                                    Precision manufacturing for OEM quality fit    https://images-na.ssl-images-amazon.com/images/I/5164ZveiZGL._SS40_.jpg           5330771                                                                     T-Rex 6319641-BR Stealth Torch Series Black Grille Toyota Tundra              Replacement Parts\n18  B017V70O96                                                                                    []                                                                                                                                                                                                                                    []          LicensePlateFreak                                                             [Automotive, Exterior Accessories, License Plate Covers & Frames, Frames]    Automotive                                                                                                                                                                                                                                                                                                                                                                                                                                                                                                                                                                                                                                                                                                                                                                                                                                                                                                                    These are hand made                                                                                                                                                                                                                                            These are hand made                                                                              $17.99  1531482                                                                         Sith Happens - Chrome Automotive License Plate Frame - Funny           Exterior Accessories\n19  B0115GTMO2                                                  [B01MTV2CWB, B00T9N6DPK, B00VGL6TSO]                                                                                                                                                                                                                                    []            Kempter Kustoms                                        [Automotive, Exterior Accessories, Towing Products & Winches, Hitch Accessories, Hitch Covers]    Automotive                                                                                                                                                                                                                                                                                                                                                                                                                                                                                                                                                                                                                                                                                                                                                       Totally one of the coolest things I've ever made! This thing turned out so good that Yoda would rock this junk if he had a pickup! Well.... that might be stretchin it but Chewy                                                                                                                                                                                                         Handmade Steel Trailer Hitch Cover. Powder Coated Red.    https://images-na.ssl-images-amazon.com/images/I/41UYTcZukNL._SS40_.jpg              1301                                                                 Star Wars Rebel Alliance Trailer Hitch Cover - Steel - Powder Coated           Exterior Accessories",
            "text/html": "<div>\n<style scoped>\n    .dataframe tbody tr th:only-of-type {\n        vertical-align: middle;\n    }\n\n    .dataframe tbody tr th {\n        vertical-align: top;\n    }\n\n    .dataframe thead th {\n        text-align: right;\n    }\n</style>\n<table border=\"1\" class=\"dataframe\">\n  <thead>\n    <tr style=\"text-align: right;\">\n      <th></th>\n      <th>asin</th>\n      <th>also_buy</th>\n      <th>also_view</th>\n      <th>brand</th>\n      <th>category</th>\n      <th>main_category</th>\n      <th>description</th>\n      <th>feature</th>\n      <th>image</th>\n      <th>price</th>\n      <th>rank</th>\n      <th>title</th>\n      <th>secondary_category</th>\n    </tr>\n  </thead>\n  <tbody>\n    <tr>\n      <th>0</th>\n      <td>B01A7MLV1W</td>\n      <td>[B00VAVSJTC, B00HHGRXA0, B00M07GQO0, B01H06M7Q...</td>\n      <td>[]</td>\n      <td>Parts Warehouse</td>\n      <td>[Automotive, Replacement Parts, Shocks,  Strut...</td>\n      <td>Automotive</td>\n      <td>14 Piece Kit Control Arms Ball Joints Tie Rod ...</td>\n      <td>Outer Tie Rod Fit Vehicles W/16 mm Threads Onl...</td>\n      <td>https://images-na.ssl-images-amazon.com/images...</td>\n      <td>$15.22</td>\n      <td>608348</td>\n      <td>PartsW 14 Piece Kit Control Arms Ball Joints T...</td>\n      <td>Replacement Parts</td>\n    </tr>\n    <tr>\n      <th>1</th>\n      <td>B001A0B7BK</td>\n      <td>[]</td>\n      <td>[]</td>\n      <td>TYC</td>\n      <td>[Automotive, Lights &amp; Lighting Accessories, Li...</td>\n      <td>Automotive</td>\n      <td>05-08 CHEVY UPLANDER MONTANA RIGHT TAIL LIGHT ...</td>\n      <td>PARTSLINK # GM2801183</td>\n      <td></td>\n      <td>$48.90</td>\n      <td>1574</td>\n      <td>05-08 CHEVY UPLANDER MONTANA RIGHT TAIL LIGHT</td>\n      <td>Lights &amp; Lighting Accessories</td>\n    </tr>\n    <tr>\n      <th>2</th>\n      <td>B00MJV1ZA2</td>\n      <td>[]</td>\n      <td>[]</td>\n      <td>Cavagna Group</td>\n      <td>[Automotive, RV Parts &amp; Accessories, Furnishin...</td>\n      <td>Automotive</td>\n      <td>Inlet Size: 1/4 Inch &lt;br&gt;Number Of Stages: 1 &lt;...</td>\n      <td>Propane Regulator; Without Shutoff Valve; 1/4 ...</td>\n      <td>https://images-na.ssl-images-amazon.com/images...</td>\n      <td></td>\n      <td>5434851</td>\n      <td>Cavagna Group 69-C-890-0033B RV Trailer Camper...</td>\n      <td>RV Parts &amp; Accessories</td>\n    </tr>\n    <tr>\n      <th>3</th>\n      <td>B0014YFB6O</td>\n      <td>[]</td>\n      <td>[B01F8E4IX2, B00G1FWOUC, B007HRUSGA, B071HLHYH...</td>\n      <td>Anco</td>\n      <td>[Automotive, Replacement Parts, Windshield Wip...</td>\n      <td>Automotive</td>\n      <td>Anco Heavy Duty Specialty Wiper Blades feature...</td>\n      <td>Features a natural</td>\n      <td></td>\n      <td>$27.03</td>\n      <td>694399</td>\n      <td>Anco 5032 Heavy Duty Specialty Wiper - 32&amp;quot;</td>\n      <td>Replacement Parts</td>\n    </tr>\n    <tr>\n      <th>4</th>\n      <td>B000WJ6LVQ</td>\n      <td>[]</td>\n      <td>[B0058PFNT0, B017C0SZL6, B0052XN2ZA, B07DT4ZPJ...</td>\n      <td>AJ</td>\n      <td>[Automotive, Replacement Parts, Exhaust &amp;amp; ...</td>\n      <td>Automotive</td>\n      <td>Add style to your vehicle and say good bye to ...</td>\n      <td>Stainless steel</td>\n      <td>https://images-na.ssl-images-amazon.com/images...</td>\n      <td>$43.98</td>\n      <td>1432943</td>\n      <td>Stainless steel exhaust tip w/ mirror chrome f...</td>\n      <td>Replacement Parts</td>\n    </tr>\n    <tr>\n      <th>5</th>\n      <td>B00D6N0CTW</td>\n      <td>[]</td>\n      <td>[]</td>\n      <td>AutoSmart</td>\n      <td>[Automotive, Lights &amp; Lighting Accessories, Bu...</td>\n      <td>Automotive</td>\n      <td>These oval shaped LED lighting product functio...</td>\n      <td>Polycarbonate lens is sonic welded to the housing</td>\n      <td>https://images-na.ssl-images-amazon.com/images...</td>\n      <td>$13.99</td>\n      <td>2020319</td>\n      <td>SET OF 4 AutoSmart KL-15114C-AE 2&amp;quot; Amber ...</td>\n      <td>Lights &amp; Lighting Accessories</td>\n    </tr>\n    <tr>\n      <th>6</th>\n      <td>B00KCXR0YO</td>\n      <td>[]</td>\n      <td>[]</td>\n      <td>Football Stars Ltd.</td>\n      <td>[Automotive, Exterior Accessories, Bumper Stic...</td>\n      <td>Automotive</td>\n      <td>Show them you are a true fan with this sticker...</td>\n      <td>Size: 5\\ x 4\\ (13 x 10 cm)</td>\n      <td></td>\n      <td>$3.89</td>\n      <td>407871</td>\n      <td>Sheffield FC - England Football Soccer Futbol ...</td>\n      <td>Exterior Accessories</td>\n    </tr>\n    <tr>\n      <th>7</th>\n      <td>B01APE90W4</td>\n      <td>[]</td>\n      <td>[]</td>\n      <td>Fusion</td>\n      <td>[Automotive, Replacement Parts, Lighting &amp; Ele...</td>\n      <td>Automotive</td>\n      <td>FORD Fusion N5F-A08TAA FLIP KEY KEYLESS REMOTE...</td>\n      <td>2013 - 2016 Ford Fusion</td>\n      <td></td>\n      <td></td>\n      <td>13404</td>\n      <td>FORD Fusion N5F-A08TAA FLIP KEY KEYLESS REMOTE...</td>\n      <td>Replacement Parts</td>\n    </tr>\n    <tr>\n      <th>8</th>\n      <td>B002656VMS</td>\n      <td>[]</td>\n      <td>[B002659W0Q, B00265E1NE, B07DGTFF3K, B003VASHY...</td>\n      <td>Progressive International</td>\n      <td>[Automotive, Lights &amp; Lighting Accessories, Le...</td>\n      <td>Automotive</td>\n      <td>Progressive Dynamic PD304</td>\n      <td>Lights 2Pk Optic Lens Pd304 Progressive Dynamics</td>\n      <td></td>\n      <td>$11.55</td>\n      <td>141817</td>\n      <td>Progressive Dynamics PD304 Replacement Frosted...</td>\n      <td>Lights &amp; Lighting Accessories</td>\n    </tr>\n    <tr>\n      <th>9</th>\n      <td>B00ZC1RCHQ</td>\n      <td>[]</td>\n      <td>[]</td>\n      <td>ARANA -Key</td>\n      <td>[Automotive, Interior Accessories, Keychains]</td>\n      <td>Automotive</td>\n      <td></td>\n      <td></td>\n      <td>https://images-na.ssl-images-amazon.com/images...</td>\n      <td></td>\n      <td>1863138</td>\n      <td>Sky Blue Smart Keyless Enrty Remote Key Fob Ca...</td>\n      <td>Interior Accessories</td>\n    </tr>\n    <tr>\n      <th>10</th>\n      <td>B001UFRVUG</td>\n      <td>[]</td>\n      <td>[B007KPERVG, B003LFDSHS, B00P2VL6CS, B000C9GYOA]</td>\n      <td>Hellwig</td>\n      <td>[Automotive, Replacement Parts, Shocks,  Strut...</td>\n      <td>Automotive</td>\n      <td>Hellwig sway bar reduces body roll so you bene...</td>\n      <td>Fast easy bolt on installation backed with a l...</td>\n      <td></td>\n      <td>$63.71</td>\n      <td>375178</td>\n      <td>Hellwig 7608 Rear Sway Bar</td>\n      <td>Replacement Parts</td>\n    </tr>\n    <tr>\n      <th>11</th>\n      <td>B0022ZYS2C</td>\n      <td>[B000GTTQZA]</td>\n      <td>[]</td>\n      <td>All Balls</td>\n      <td>[Automotive, Motorcycle &amp; Powersports, Parts, ...</td>\n      <td>Automotive</td>\n      <td>Honda CB1000 1994 - 1995&lt;br&gt;Honda CB750 Nighth...</td>\n      <td>Contains: 2 Ball Bearings</td>\n      <td></td>\n      <td>$16.32</td>\n      <td>992213</td>\n      <td>&amp;quot;All Balls 25-1077 Honda VF 750C</td>\n      <td>Motorcycle &amp; Powersports</td>\n    </tr>\n    <tr>\n      <th>12</th>\n      <td>B00UN2BDHE</td>\n      <td>[]</td>\n      <td>[B00UL6GH64]</td>\n      <td>Dragon</td>\n      <td>[Automotive, Interior Accessories, Anti-Theft,...</td>\n      <td>Automotive</td>\n      <td>Product This auction features one brand new Ge...</td>\n      <td>Fitment As long as your key is exactly like th...</td>\n      <td>https://images-na.ssl-images-amazon.com/images...</td>\n      <td></td>\n      <td>23486</td>\n      <td>Leather Key fob Holder Case Chain Cover FIT Fo...</td>\n      <td>Interior Accessories</td>\n    </tr>\n    <tr>\n      <th>13</th>\n      <td>B001HR280K</td>\n      <td>[]</td>\n      <td>[]</td>\n      <td>Victor Reinz</td>\n      <td>[Automotive, Replacement Parts, Gaskets, Valve...</td>\n      <td>Automotive</td>\n      <td>Victor Reinz Valve Cover Gasket Set - Includes...</td>\n      <td></td>\n      <td></td>\n      <td></td>\n      <td>1411934</td>\n      <td>Victor Reinz Valve Cover Gasket Set</td>\n      <td>Replacement Parts</td>\n    </tr>\n    <tr>\n      <th>14</th>\n      <td>B000EOIQHQ</td>\n      <td>[]</td>\n      <td>[]</td>\n      <td>Beck Arnley</td>\n      <td>[Automotive, Replacement Parts, Engines &amp; Engi...</td>\n      <td>Automotive</td>\n      <td>Beck/Arnley's strategy of sourcing using the b...</td>\n      <td>Matches OE form</td>\n      <td></td>\n      <td>$50.98</td>\n      <td>2050034</td>\n      <td>Beck Arnley 024-1075 Timing Belt Tensioner</td>\n      <td>Replacement Parts</td>\n    </tr>\n    <tr>\n      <th>15</th>\n      <td>B00IJJA2F2</td>\n      <td>[B00U6HKU20, B00Z8NYPGO, B00CMZB04G, B00IDHW1X...</td>\n      <td>[]</td>\n      <td>Caltric</td>\n      <td>[Automotive, Replacement Parts, Transmission &amp;...</td>\n      <td>Automotive</td>\n      <td>Used on: POLARIS 500 SPORTSMAN 4X4 1998-2001 F...</td>\n      <td></td>\n      <td>https://images-na.ssl-images-amazon.com/images...</td>\n      <td>$13.00</td>\n      <td>1217944</td>\n      <td>Caltric U-JOINT KIT Fits POLARIS SPORTSMAN 500...</td>\n      <td>Replacement Parts</td>\n    </tr>\n    <tr>\n      <th>16</th>\n      <td>B00279MWLM</td>\n      <td>[B00O6WPVXY, B005QZ596Y, B001NZZAGU]</td>\n      <td>[]</td>\n      <td>Spectra Premium</td>\n      <td>[Automotive, Replacement Parts, Fuel System, F...</td>\n      <td>Automotive</td>\n      <td>Innovative engineering</td>\n      <td>Innovative engineering</td>\n      <td>https://images-na.ssl-images-amazon.com/images...</td>\n      <td>$217.78</td>\n      <td>702126</td>\n      <td>Spectra Premium SP6242M Fuel Pump Module for C...</td>\n      <td>Replacement Parts</td>\n    </tr>\n    <tr>\n      <th>17</th>\n      <td>B016YG1AL6</td>\n      <td>[]</td>\n      <td>[B016YG15RA]</td>\n      <td>T-Rex Grilles</td>\n      <td>[Automotive, Replacement Parts, Body &amp; Trim, B...</td>\n      <td>Automotive</td>\n      <td>T-REX grilles are manufactured from the finest...</td>\n      <td>Precision manufacturing for OEM quality fit</td>\n      <td>https://images-na.ssl-images-amazon.com/images...</td>\n      <td></td>\n      <td>5330771</td>\n      <td>T-Rex 6319641-BR Stealth Torch Series Black Gr...</td>\n      <td>Replacement Parts</td>\n    </tr>\n    <tr>\n      <th>18</th>\n      <td>B017V70O96</td>\n      <td>[]</td>\n      <td>[]</td>\n      <td>LicensePlateFreak</td>\n      <td>[Automotive, Exterior Accessories, License Pla...</td>\n      <td>Automotive</td>\n      <td>These are hand made</td>\n      <td>These are hand made</td>\n      <td></td>\n      <td>$17.99</td>\n      <td>1531482</td>\n      <td>Sith Happens - Chrome Automotive License Plate...</td>\n      <td>Exterior Accessories</td>\n    </tr>\n    <tr>\n      <th>19</th>\n      <td>B0115GTMO2</td>\n      <td>[B01MTV2CWB, B00T9N6DPK, B00VGL6TSO]</td>\n      <td>[]</td>\n      <td>Kempter Kustoms</td>\n      <td>[Automotive, Exterior Accessories, Towing Prod...</td>\n      <td>Automotive</td>\n      <td>Totally one of the coolest things I've ever ma...</td>\n      <td>Handmade Steel Trailer Hitch Cover. Powder Coa...</td>\n      <td>https://images-na.ssl-images-amazon.com/images...</td>\n      <td></td>\n      <td>1301</td>\n      <td>Star Wars Rebel Alliance Trailer Hitch Cover -...</td>\n      <td>Exterior Accessories</td>\n    </tr>\n  </tbody>\n</table>\n</div>"
          },
          "metadata": {}
        }
      ],
      "execution_count": 39,
      "metadata": {
        "jupyter": {
          "source_hidden": false,
          "outputs_hidden": false
        },
        "nteract": {
          "transient": {
            "deleting": false
          }
        }
      }
    }
  ],
  "metadata": {
    "kernelspec": {
      "name": "synapse_pyspark",
      "language": "Python",
      "display_name": "Synapse PySpark"
    },
    "language_info": {
      "name": "python"
    },
    "kernel_info": {
      "name": "synapse_pyspark"
    },
    "description": null,
    "save_output": true,
    "synapse_widget": {
      "version": "0.1",
      "state": {
        "fdd62ac5-99a4-4fdd-a099-84b1f8acec8e": {
          "type": "Synapse.DataFrame",
          "sync_state": {
            "table": {
              "rows": [
                {
                  "0": "Replacement Parts",
                  "1": "391079"
                },
                {
                  "0": "Exterior Accessories",
                  "1": "154770"
                },
                {
                  "0": "Motorcycle & Powersports",
                  "1": "127531"
                },
                {
                  "0": "Interior Accessories",
                  "1": "73733"
                },
                {
                  "0": "Lights & Lighting Accessories",
                  "1": "47044"
                },
                {
                  "0": "Tires & Wheels",
                  "1": "29478"
                },
                {
                  "0": "Tools & Equipment",
                  "1": "22882"
                },
                {
                  "0": "Car Care",
                  "1": "9586"
                },
                {
                  "0": "Paint & Paint Supplies",
                  "1": "7516"
                },
                {
                  "0": "RV Parts & Accessories",
                  "1": "6646"
                },
                {
                  "0": "Oils & Fluids",
                  "1": "6549"
                },
                {
                  "0": "Performance Parts & Accessories",
                  "1": "6436"
                },
                {
                  "0": "Motorcycle &amp; Powersports",
                  "1": "2695"
                },
                {
                  "0": "Heavy Duty & Commercial Vehicle Equipment",
                  "1": "1582"
                },
                {
                  "0": "Tools &amp; Equipment",
                  "1": "1119"
                },
                {
                  "0": "Lights &amp; Lighting Accessories",
                  "1": "609"
                },
                {
                  "0": "Performance Parts &amp; Accessories",
                  "1": "441"
                },
                {
                  "0": "Oils &amp; Fluids",
                  "1": "390"
                },
                {
                  "0": "Automotive Enthusiast Merchandise",
                  "1": "388"
                },
                {
                  "0": "Tires &amp; Wheels",
                  "1": "361"
                },
                {
                  "0": "RV Parts &amp; Accessories",
                  "1": "259"
                },
                {
                  "0": "Paint &amp; Paint Supplies",
                  "1": "124"
                },
                {
                  "0": "Heavy Duty &amp; Commercial Vehicle Equipment",
                  "1": "87"
                },
                {
                  "0": "Car Electronics & Accessories",
                  "1": "2"
                }
              ],
              "schema": [
                {
                  "key": "0",
                  "name": "secondary_category",
                  "type": "string"
                },
                {
                  "key": "1",
                  "name": "count",
                  "type": "bigint"
                }
              ],
              "truncated": false
            },
            "isSummary": false,
            "language": "scala"
          },
          "persist_state": {
            "view": {
              "type": "details",
              "tableOptions": {},
              "chartOptions": {
                "chartType": "bar",
                "aggregationType": "sum",
                "categoryFieldKeys": [
                  "0"
                ],
                "seriesFieldKeys": [
                  "1"
                ],
                "isStacked": false
              }
            }
          }
        },
        "ef3b5529-b57c-41c2-91e9-60a4d2a4ed8c": {
          "type": "Synapse.DataFrame",
          "sync_state": {
            "chart": {
              "count": {
                "Oils & Fluids": 6939,
                "RV Parts & Accessories": 6905,
                "Car Care": 9586,
                "Heavy Duty & Commercial Vehicle Equipment": 1669,
                "Tires & Wheels": 29839,
                "Interior Accessories": 73733,
                "Car Electronics & Accessories": 2,
                "Automotive Enthusiast Merchandise": 388,
                "Motorcycle & Powersports": 130226,
                "Replacement Parts": 391079,
                "Performance Parts & Accessories": 6877,
                "Paint & Paint Supplies": 7640,
                "Exterior Accessories": 154770,
                "Tools & Equipment": 24001,
                "Lights & Lighting Accessories": 47653
              }
            },
            "table": {
              "rows": [
                {
                  "0": "Replacement Parts",
                  "1": "391079"
                },
                {
                  "0": "Exterior Accessories",
                  "1": "154770"
                },
                {
                  "0": "Motorcycle & Powersports",
                  "1": "130226"
                },
                {
                  "0": "Interior Accessories",
                  "1": "73733"
                },
                {
                  "0": "Lights & Lighting Accessories",
                  "1": "47653"
                },
                {
                  "0": "Tires & Wheels",
                  "1": "29839"
                },
                {
                  "0": "Tools & Equipment",
                  "1": "24001"
                },
                {
                  "0": "Car Care",
                  "1": "9586"
                },
                {
                  "0": "Paint & Paint Supplies",
                  "1": "7640"
                },
                {
                  "0": "Oils & Fluids",
                  "1": "6939"
                },
                {
                  "0": "RV Parts & Accessories",
                  "1": "6905"
                },
                {
                  "0": "Performance Parts & Accessories",
                  "1": "6877"
                },
                {
                  "0": "Heavy Duty & Commercial Vehicle Equipment",
                  "1": "1669"
                },
                {
                  "0": "Automotive Enthusiast Merchandise",
                  "1": "388"
                },
                {
                  "0": "Car Electronics & Accessories",
                  "1": "2"
                }
              ],
              "schema": [
                {
                  "key": "0",
                  "name": "secondary_category",
                  "type": "string"
                },
                {
                  "key": "1",
                  "name": "count",
                  "type": "bigint"
                }
              ],
              "truncated": false
            },
            "isSummary": false,
            "language": "scala"
          },
          "persist_state": {
            "view": {
              "type": "details",
              "tableOptions": {},
              "chartOptions": {
                "chartType": "bar",
                "aggregationType": "sum",
                "categoryFieldKeys": [
                  "0"
                ],
                "seriesFieldKeys": [
                  "1"
                ],
                "isStacked": false
              },
              "evaluatesOverAllRecords": false
            }
          }
        }
      }
    }
  },
  "nbformat": 4,
  "nbformat_minor": 2
}