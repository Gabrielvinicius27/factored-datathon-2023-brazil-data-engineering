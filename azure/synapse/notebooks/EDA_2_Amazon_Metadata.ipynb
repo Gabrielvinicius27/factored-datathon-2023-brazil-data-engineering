{
  "cells": [
    {
      "cell_type": "markdown",
      "metadata": {
        "nteract": {
          "transient": {
            "deleting": false
          }
        }
      },
      "source": [
        "## Importing Libs"
      ]
    },
    {
      "cell_type": "code",
      "execution_count": 17,
      "metadata": {
        "jupyter": {
          "outputs_hidden": false,
          "source_hidden": false
        },
        "nteract": {
          "transient": {
            "deleting": false
          }
        }
      },
      "outputs": [
        {
          "data": {
            "application/vnd.livy.statement-meta+json": {
              "execution_finish_time": "2023-07-27T12:04:48.6159062Z",
              "execution_start_time": "2023-07-27T12:04:29.5268281Z",
              "livy_statement_state": "available",
              "parent_msg_id": "b4601b17-ad8b-4fc9-a782-6c7f1d4261b9",
              "queued_time": "2023-07-27T12:01:18.4461301Z",
              "session_id": "8",
              "session_start_time": null,
              "spark_jobs": null,
              "spark_pool": "synsp03",
              "state": "finished",
              "statement_id": 3
            },
            "text/plain": [
              "StatementMeta(synsp03, 8, 3, Finished, Available)"
            ]
          },
          "metadata": {},
          "output_type": "display_data"
        },
        {
          "name": "stdout",
          "output_type": "stream",
          "text": [
            "'PYARROW_IGNORE_TIMEZONE' environment variable was not set. It is required to set this environment variable to '1' in both driver and executor sides if you use pyarrow>=2.0.0. pandas-on-Spark will set it for you but it does not work if there is a Spark context already launched.\n"
          ]
        }
      ],
      "source": [
        "import pyspark.pandas as ps\n",
        "import numpy as np\n",
        "import pandas as pd\n",
        "import matplotlib.pylab as plt\n",
        "import seaborn as sns\n",
        "import pyspark.sql.functions as F\n",
        "from pyspark.sql.types import StructType,StructField, StringType"
      ]
    },
    {
      "cell_type": "code",
      "execution_count": 16,
      "metadata": {
        "jupyter": {
          "outputs_hidden": false,
          "source_hidden": false
        },
        "nteract": {
          "transient": {
            "deleting": false
          }
        }
      },
      "outputs": [
        {
          "data": {
            "application/vnd.livy.statement-meta+json": {
              "execution_finish_time": "2023-07-27T12:04:29.3299532Z",
              "execution_start_time": "2023-07-27T12:04:29.1648537Z",
              "livy_statement_state": "available",
              "parent_msg_id": "4b6a68af-172a-4e39-8da8-b84d1fed6455",
              "queued_time": "2023-07-27T12:00:43.8760829Z",
              "session_id": "8",
              "session_start_time": "2023-07-27T12:00:43.9430778Z",
              "spark_jobs": null,
              "spark_pool": "synsp03",
              "state": "finished",
              "statement_id": 2
            },
            "text/plain": [
              "StatementMeta(synsp03, 8, 2, Finished, Available)"
            ]
          },
          "metadata": {},
          "output_type": "display_data"
        },
        {
          "data": {
            "text/plain": [
              "'512m'"
            ]
          },
          "execution_count": 5,
          "metadata": {},
          "output_type": "execute_result"
        }
      ],
      "source": [
        "spark.conf.get('spark.kryoserializer.buffer.max')"
      ]
    },
    {
      "cell_type": "markdown",
      "metadata": {
        "nteract": {
          "transient": {
            "deleting": false
          }
        }
      },
      "source": [
        "## Loading dataframe"
      ]
    },
    {
      "cell_type": "code",
      "execution_count": 20,
      "metadata": {},
      "outputs": [
        {
          "data": {
            "application/vnd.livy.statement-meta+json": {
              "execution_finish_time": "2023-07-27T12:07:11.161302Z",
              "execution_start_time": "2023-07-27T12:07:08.2453047Z",
              "livy_statement_state": "available",
              "parent_msg_id": "85423b75-7aa2-418b-9d7c-dc9ce1e9abd9",
              "queued_time": "2023-07-27T12:07:08.0818932Z",
              "session_id": "8",
              "session_start_time": null,
              "spark_jobs": null,
              "spark_pool": "synsp03",
              "state": "finished",
              "statement_id": 6
            },
            "text/plain": [
              "StatementMeta(synsp03, 8, 6, Finished, Available)"
            ]
          },
          "metadata": {},
          "output_type": "display_data"
        }
      ],
      "source": [
        "df = spark.read\\\n",
        ".format('parquet')\\\n",
        ".load('abfss://default@stdatalakeakita.dfs.core.windows.net/synapse/workspaces/syn-synfactoreddatathon01-dev/silver/**')\\\n",
        ".repartition(4000)\n",
        "\n",
        "df_pandas = df.pandas_api()"
      ]
    },
    {
      "cell_type": "code",
      "execution_count": 22,
      "metadata": {
        "jupyter": {
          "outputs_hidden": false,
          "source_hidden": false
        },
        "nteract": {
          "transient": {
            "deleting": false
          }
        }
      },
      "outputs": [
        {
          "data": {
            "application/vnd.livy.statement-meta+json": {
              "execution_finish_time": "2023-07-27T12:08:52.052719Z",
              "execution_start_time": "2023-07-27T12:08:22.6072624Z",
              "livy_statement_state": "available",
              "parent_msg_id": "de203723-4455-4569-a125-80c0964498e0",
              "queued_time": "2023-07-27T12:08:22.4197848Z",
              "session_id": "8",
              "session_start_time": null,
              "spark_jobs": null,
              "spark_pool": "synsp03",
              "state": "finished",
              "statement_id": 8
            },
            "text/plain": [
              "StatementMeta(synsp03, 8, 8, Finished, Available)"
            ]
          },
          "metadata": {},
          "output_type": "display_data"
        },
        {
          "name": "stdout",
          "output_type": "stream",
          "text": [
            "(14741571, 15)\n",
            "Index(['also_buy', 'also_view', 'asin', 'brand', 'category', 'description',\n",
            "       'details_asin', 'details_shipping_weight', 'feature', 'image', 'price',\n",
            "       'rank', 'tech1', 'tech2', 'title'],\n",
            "      dtype='object')\n"
          ]
        }
      ],
      "source": [
        "print(df_pandas.shape)\n",
        "print(df_pandas.columns)"
      ]
    },
    {
      "cell_type": "code",
      "execution_count": 23,
      "metadata": {
        "jupyter": {
          "outputs_hidden": false,
          "source_hidden": false
        },
        "nteract": {
          "transient": {
            "deleting": false
          }
        }
      },
      "outputs": [
        {
          "data": {
            "application/vnd.livy.statement-meta+json": {
              "execution_finish_time": "2023-07-27T12:12:16.5600306Z",
              "execution_start_time": "2023-07-27T12:08:52.2447116Z",
              "livy_statement_state": "available",
              "parent_msg_id": "9dd55aad-da1e-49a5-830d-7cae2eb13786",
              "queued_time": "2023-07-27T12:08:30.2961404Z",
              "session_id": "8",
              "session_start_time": null,
              "spark_jobs": null,
              "spark_pool": "synsp03",
              "state": "finished",
              "statement_id": 9
            },
            "text/plain": [
              "StatementMeta(synsp03, 8, 9, Finished, Available)"
            ]
          },
          "metadata": {},
          "output_type": "display_data"
        },
        {
          "data": {
            "text/html": [
              "<div>\n",
              "<style scoped>\n",
              "    .dataframe tbody tr th:only-of-type {\n",
              "        vertical-align: middle;\n",
              "    }\n",
              "\n",
              "    .dataframe tbody tr th {\n",
              "        vertical-align: top;\n",
              "    }\n",
              "\n",
              "    .dataframe thead th {\n",
              "        text-align: right;\n",
              "    }\n",
              "</style>\n",
              "<table border=\"1\" class=\"dataframe\">\n",
              "  <thead>\n",
              "    <tr style=\"text-align: right;\">\n",
              "      <th></th>\n",
              "      <th>also_buy</th>\n",
              "      <th>also_view</th>\n",
              "      <th>asin</th>\n",
              "      <th>brand</th>\n",
              "      <th>category</th>\n",
              "      <th>description</th>\n",
              "      <th>details_asin</th>\n",
              "      <th>details_shipping_weight</th>\n",
              "      <th>feature</th>\n",
              "      <th>image</th>\n",
              "      <th>price</th>\n",
              "      <th>rank</th>\n",
              "      <th>tech1</th>\n",
              "      <th>tech2</th>\n",
              "      <th>title</th>\n",
              "    </tr>\n",
              "  </thead>\n",
              "  <tbody>\n",
              "    <tr>\n",
              "      <th>0</th>\n",
              "      <td>[]</td>\n",
              "      <td>[\"B001O2R0ME\", \"B001O2R10U\", \"B07GNMLX9J\", \"B0...</td>\n",
              "      <td>B007PV3SSI</td>\n",
              "      <td>Hunter Mfg. LLP</td>\n",
              "      <td>[\"Sports &amp; Outdoors\", \"Fan Shop\", \"Pet Gear\", ...</td>\n",
              "      <td>[\"Decorated in full team colors with official ...</td>\n",
              "      <td>B007PV3SSI</td>\n",
              "      <td>4.8 ounces (</td>\n",
              "      <td>[\"100% Polyester Mesh\", \"Imported\", \"Decorated...</td>\n",
              "      <td>[]</td>\n",
              "      <td>$9.95</td>\n",
              "      <td>596,035 in Sports &amp; Outdoors (</td>\n",
              "      <td></td>\n",
              "      <td></td>\n",
              "      <td>Hunter Mfg. LLP NCAA Clemson Tigers Pet Bandana</td>\n",
              "    </tr>\n",
              "    <tr>\n",
              "      <th>1</th>\n",
              "      <td>[]</td>\n",
              "      <td>[]</td>\n",
              "      <td>B00D6YFG2Y</td>\n",
              "      <td>Tuningpros</td>\n",
              "      <td>[\"Automotive\", \"Replacement Parts\", \"Body &amp; Tr...</td>\n",
              "      <td>[\"This window visors deflector are the most po...</td>\n",
              "      <td>None</td>\n",
              "      <td>None</td>\n",
              "      <td>[\"Reinforced acrylic in dark smoke color; Outs...</td>\n",
              "      <td>[\"https://images-na.ssl-images-amazon.com/imag...</td>\n",
              "      <td>$23.12</td>\n",
              "      <td>[\"&gt;#1,928,188 in Automotive (See top 100)\",\"&gt;#...</td>\n",
              "      <td>class=\"a-keyvalue prodDetTable\" role=\"present...</td>\n",
              "      <td></td>\n",
              "      <td>TuningPros WV-370 Window Visor Deflector Rain ...</td>\n",
              "    </tr>\n",
              "    <tr>\n",
              "      <th>2</th>\n",
              "      <td>[]</td>\n",
              "      <td>[]</td>\n",
              "      <td>B006PDOF98</td>\n",
              "      <td>Walker Products</td>\n",
              "      <td>[\"Automotive\", \"Replacement Parts\", \"Fuel Syst...</td>\n",
              "      <td>[\"Carburetor kit,  100 per cent OEM style comp...</td>\n",
              "      <td>None</td>\n",
              "      <td>None</td>\n",
              "      <td>[\"100% OEM style components insure proper fit ...</td>\n",
              "      <td>[]</td>\n",
              "      <td>$17.19</td>\n",
              "      <td>[\"&gt;#2,416,270 in Automotive (See top 100)\",\"&gt;#...</td>\n",
              "      <td>class=\"a-keyvalue prodDetTable\" role=\"present...</td>\n",
              "      <td></td>\n",
              "      <td>Walker Products 778-618 Carburetor Kit (Agricu...</td>\n",
              "    </tr>\n",
              "    <tr>\n",
              "      <th>3</th>\n",
              "      <td>[]</td>\n",
              "      <td>[\"B00896QNGM\", \"B008ANYJK6\", \"B001GXA1RW\", \"B0...</td>\n",
              "      <td>B001GE74OO</td>\n",
              "      <td>Bowen Designs</td>\n",
              "      <td>[\"Toys &amp; Games\", \"Action Figures &amp; Statues\", \"...</td>\n",
              "      <td>[\"The Master Sculptors From Bowen Designs Pres...</td>\n",
              "      <td>None</td>\n",
              "      <td>None</td>\n",
              "      <td>[\"Limited Edition Of 2500\", \"Sculpted By Erick...</td>\n",
              "      <td>[]</td>\n",
              "      <td>$595.00</td>\n",
              "      <td>[\"&gt;#3,769,361 in Toys &amp; Games (See Top 100 in ...</td>\n",
              "      <td></td>\n",
              "      <td></td>\n",
              "      <td>Deadpool Statue by Bowen Designs!</td>\n",
              "    </tr>\n",
              "    <tr>\n",
              "      <th>4</th>\n",
              "      <td>[]</td>\n",
              "      <td>[]</td>\n",
              "      <td>B00CXAC5PI</td>\n",
              "      <td>Generic</td>\n",
              "      <td>[\"Home &amp; Kitchen\", \"Home Dcor\", \"Candles &amp; Hol...</td>\n",
              "      <td>[\"1 Dozen (12) 6\\\" Brown Household Tapered Can...</td>\n",
              "      <td>None</td>\n",
              "      <td>None</td>\n",
              "      <td>[]</td>\n",
              "      <td>[]</td>\n",
              "      <td>$10.85</td>\n",
              "      <td>[\"&gt;#3,765,112 in Home &amp; Kitchen (See Top 100 i...</td>\n",
              "      <td></td>\n",
              "      <td></td>\n",
              "      <td>1 Dozen Brown Household Tapered Candles (12)</td>\n",
              "    </tr>\n",
              "  </tbody>\n",
              "</table>\n",
              "</div>"
            ],
            "text/plain": [
              "  also_buy                                                                                                                                                                                                                                                     also_view        asin            brand                                                                                   category                                                                                                                                                                                                                                                                                                                                                                                                                                                                                                                                                                                                                                                                                                                                                                                                                                                                                                                                                                                                                                                                                                                                                                                                                                                                                       description details_asin details_shipping_weight                                                                                                                                                                                                                                                                                                                                                                                                                                                                          feature                                                                                                                                                                                                                              image    price                                                                                                                                                                                                                                                                                                                                              rank                                                                                                                                                                                                                                                                                                                                                                                                                                                                                                                                                                                                                                                                                                                                                                                                                                                                                                                                                                                                                                                                                                                                                                                                                                                                                                                                                                                                                                                                                                                                                                                                                                                                                                                                                                                                                                                                                                                                                                                                                                                                                                                                                                                                                                                                                                                                                                                                                                                                                                                                                                                                                                                                                                                                                                                                                                                                                                                                                                                       tech1 tech2                                                                    title\n",
              "0       []  [\"B001O2R0ME\", \"B001O2R10U\", \"B07GNMLX9J\", \"B07JHXPVVP\", \"B005EZNT36\", \"B001O2R1FU\", \"B074MYWQZK\", \"B0765B83B2\", \"B005EVJGFA\", \"B00RNCT928\", \"B073S3ZQ41\", \"B00R4WZWT6\", \"B005EV93EE\", \"B07HJDCKTN\", \"B0160BCVYK\", \"B00Y9XCWSC\", \"B006JKSZ66\", \"B01M8JT6FT\"]  B007PV3SSI  Hunter Mfg. LLP                              [\"Sports & Outdoors\", \"Fan Shop\", \"Pet Gear\", \"Pet Bandanas\"]                                                                                                                                                                                                                                                                                                                                                                                                                                                [\"Decorated in full team colors with official team logos. Constructed of Polyester mesh. Features a sewn in loop to slide over dog collar. We are the industry leader in high-quality,  innovative licensed sports products for MLB,  NASCAR,  NBA,  NFL,  NHL and over 80 colleges and universities. After 25 years in business,  Hunter Manufacturing based in Lexington,  KY has become an industry leader serving thousands of customers with hundreds of products across several categories,  including plastic & high performance drink ware,  pet products and game day essentials. These officially licensed products are available for NFL,  MLB,  NHL,  NBA,  NASCAR,  Kentucky Derby and over 80 NCAA colleges & universities. Hunter Mfg. is a trusted name in high-quality,  innovative licensed sports consumer products.\", \"HUNBJ\"]   B007PV3SSI            4.8 ounces (                                                                                                                                                                                                                                                                                               [\"100% Polyester Mesh\", \"Imported\", \"Decorated in full team colors with official team logos\", \"Constructed of Polyester mesh\", \"Features a sewn in loop to slide over dog collar\"]                                                                                                                                                                                                                                 []    $9.95                                                                                                                                                                                                                                                                                                                    596,035 in Sports & Outdoors (                                                                                                                                                                                                                                                                                                                                                                                                                                                                                                                                                                                                                                                                                                                                                                                                                                                                                                                                                                                                                                                                                                                                                                                                                                                                                                                                                                                                                                                                                                                                                                                                                                                                                                                                                                                                                                                                                                                                                                                                                                                                                                                                                                                                                                                                                                                                                                                                                                                                                                                                                                                                                                                                                                                                                                                                                                                                                                                                                                                                                            Hunter Mfg. LLP NCAA Clemson Tigers Pet Bandana\n",
              "1       []                                                                                                                                                                                                                                                            []  B00D6YFG2Y       Tuningpros                                 [\"Automotive\", \"Replacement Parts\", \"Body & Trim\", \"Body\"]  [\"This window visors deflector are the most popular accessory for all vehicles. Whether you're on the move or in the parking lot,  this visors create cabin comfort by keeping rain out,  letting fresh air in and reduce heat buildup in parked vehicles when partially open. </br>Made with reinforced acrylic in dark smoke color. This visor provide 100% color fade resistant guarantee. It is easy to install and 'No-Holes-To-Drill'. Installation with included OEM approved tape. Just clean and apply. Custom made to fit on each specific model.</br></br></br>Spec & Features:</br></br>1) Reinforced Acrylic in Dark Smoke Color</br></br>2) Standard Profile Window Visor</br></br>3) Easy to Install with Included OEM Approved Tape. Just Clean and Apply!</br></br>4) Helps to Reduce Heat Build-up in Parked Vehicles by Allowing Windows to be Partially Open</br></br>5) Keeps Rain Out and Lets Fresh Air In</br></br>6) 100% Color Fade Resistant Guarantee</br></br>7) Custom fit for your vehicle; This part is guaranteed to fit: Pontiac G8 2008-2009</br></br></br>Fit Following Make/Year/Model:</br></br>Make/ Year: Pontiac G8 2008 2009</br></br>Model: Base,  GT,  GXP (All. Outside Mount Visor)</br></br>Four Doors/ 4 Drs model only,  not for Wagon. </br>\"]         None                    None                             [\"Reinforced acrylic in dark smoke color; Outside Mount Visor(not In-Channel)\", \"keeping rain out,  letting fresh air in and reduce heat buildup in parked vehicles when partially open\", \"100% color fade resistant guarantee; Easy no-drill application\", \"Installation with included approved tape; Just clean and apply; Pictures show for reference only\", \"Custom fit for your vehicle; This part is guaranteed to fit: Pontiac G8 2008-2009\"]  [\"https://images-na.ssl-images-amazon.com/images/I/51WZDACmTeL._SS40_.jpg\", \"https://images-na.ssl-images-amazon.com/images/I/419GzkUtq1L._SS40_.jpg\", \"https://images-na.ssl-images-amazon.com/images/I/41JzOjShY0L._SS40_.jpg\"]   $23.12                                                                                                                      [\">#1,928,188 in Automotive (See top 100)\",\">#11,180 in Automotive > Exterior Accessories > Deflectors & Shields > Side Window Wind Deflectors & Visors\",\">#208,715 in Automotive > Replacement Parts > Body & Trim > Body\"]                                                                                                                                                                                                                                                                                                                                                                                                                                                                                                                                                                                                                                                                                                                                                                                                                                                                                                                                                   class=\"a-keyvalue prodDetTable\" role=\"presentation\">\\n         \\n           \\n           \\n           \\n           <tr>\\n            \\n            \\n              \\n              \\n               \\n                <th class=\"a-color-secondary a-size-base prodDetSectionEntry\">\\n                  Brand\\n                </th>\\n                \\n              \\n            \\n            \\n           \\n            <td class=\"a-size-base\">\\n              Tuningpros\\n            </td>\\n            \\n           </tr>\\n           \\n           \\n           \\n           <tr>\\n            \\n            \\n              \\n              \\n               \\n                <th class=\"a-color-secondary a-size-base prodDetSectionEntry\">\\n                  Item Weight\\n                </th>\\n                \\n              \\n            \\n            \\n           \\n            <td class=\"a-size-base\">\\n              1.15 pounds\\n            </td>\\n            \\n           </tr>\\n           \\n           \\n           \\n           <tr>\\n            \\n            \\n              \\n              \\n               \\n                <th class=\"a-color-secondary a-size-base prodDetSectionEntry\">\\n                  Package Dimensions\\n                </th>\\n                \\n              \\n            \\n            \\n           \\n            <td class=\"a-size-base\">\\n              38.3 x 3 x 0.5 inches\\n            </td>\\n            \\n           </tr>\\n           \\n           \\n           \\n           <tr>\\n            \\n            \\n              \\n              \\n               \\n                <th class=\"a-color-secondary a-size-base prodDetSectionEntry\">\\n                  Manufacturer Part Number\\n                </th>\\n                \\n              \\n            \\n            \\n           \\n            <td class=\"a-size-base\">\\n              WV-370\\n            </td>\\n            \\n           </tr>\\n           \\n           \\n          \\n                TuningPros WV-370 Window Visor Deflector Rain Guard Dark Smoke 4-pc Set\n",
              "2       []                                                                                                                                                                                                                                                            []  B006PDOF98  Walker Products  [\"Automotive\", \"Replacement Parts\", \"Fuel System\", \"Carburetors & Parts\", \"Rebuild Kits\"]                                                                                                                                                                                                                                                                                                                                                                                                                                                                                                                                                                                                                                                                                                                                [\"Carburetor kit,  100 per cent OEM style components insure proper fit and assist with easy rebuilding of the fuel system as all parts match the original OEM components High quality coated gaskets insure a proper seal and resist today's volatile fuel mixtures in the marketplace Easy to read instructions insure a quick and easy installation with step by step rebuilding instructions including pictures Walker fuel system repair kit includes all installation accessories including OE style clip rivets,  float gauge and float specification kit.\"]         None                    None  [\"100% OEM style components insure proper fit and assist with easy rebuilding of the fuel system as all parts match the original OEM components\", \"High quality coated gaskets insure a proper seal and resist today's volatile fuel mixtures in the marketplace\", \"Easy to read instructions insure a quick and easy installation with step by step rebuilding instructions including pictures\", \"Carburetor Rebuild Kit\", \"Carburetor Rebuild Kit\", \"Carburetor Rebuild Kit\"]                                                                                                                                                                                                                                 []   $17.19  [\">#2,416,270 in Automotive (See top 100)\",\">#235 in Automotive > Performance Parts & Accessories > Fuel System > Carburetors & Parts > Rebuild Kits\",\">#2,000 in Automotive > Replacement Parts > Fuel System > Carburetors & Parts > Rebuild Kits\",\">#8,878 in Automotive > Performance Parts & Accessories > Exhaust System > Complete Kits\"]   class=\"a-keyvalue prodDetTable\" role=\"presentation\">\\n         \\n           \\n           \\n           \\n           <tr>\\n            \\n            \\n              \\n              \\n               \\n                <th class=\"a-color-secondary a-size-base prodDetSectionEntry\">\\n                  Brand\\n                </th>\\n                \\n              \\n            \\n            \\n           \\n            <td class=\"a-size-base\">\\n              Walker Products\\n            </td>\\n            \\n           </tr>\\n           \\n           \\n           \\n           <tr>\\n            \\n            \\n              \\n              \\n               \\n                <th class=\"a-color-secondary a-size-base prodDetSectionEntry\">\\n                  Model\\n                </th>\\n                \\n              \\n            \\n            \\n           \\n            <td class=\"a-size-base\">\\n              778-618\\n            </td>\\n            \\n           </tr>\\n           \\n           \\n           \\n           <tr>\\n            \\n            \\n              \\n              \\n               \\n                <th class=\"a-color-secondary a-size-base prodDetSectionEntry\">\\n                  Item Weight\\n                </th>\\n                \\n              \\n            \\n            \\n           \\n            <td class=\"a-size-base\">\\n              1.6 ounces\\n            </td>\\n            \\n           </tr>\\n           \\n           \\n           \\n           <tr>\\n            \\n            \\n              \\n              \\n               \\n                <th class=\"a-color-secondary a-size-base prodDetSectionEntry\">\\n                  Product Dimensions\\n                </th>\\n                \\n              \\n            \\n            \\n           \\n            <td class=\"a-size-base\">\\n              7.3 x 6.3 x 2 inches\\n            </td>\\n            \\n           </tr>\\n           \\n           \\n           \\n           <tr>\\n            \\n            \\n              \\n              \\n               \\n                <th class=\"a-color-secondary a-size-base prodDetSectionEntry\">\\n                  Item model number\\n                </th>\\n                \\n              \\n            \\n            \\n           \\n            <td class=\"a-size-base\">\\n              778-618\\n            </td>\\n            \\n           </tr>\\n           \\n           \\n           \\n           <tr>\\n            \\n            \\n              \\n              \\n               \\n                <th class=\"a-color-secondary a-size-base prodDetSectionEntry\">\\n                  Manufacturer Part Number\\n                </th>\\n                \\n              \\n            \\n            \\n           \\n            <td class=\"a-size-base\">\\n              778-618\\n            </td>\\n            \\n           </tr>\\n           \\n           \\n          \\n                                  Walker Products 778-618 Carburetor Kit (Agricultural)\n",
              "3       []                                                                                      [\"B00896QNGM\", \"B008ANYJK6\", \"B001GXA1RW\", \"B0778VZ9FH\", \"B008ANYKUK\", \"B00O1H1GIS\", \"B01FWITOG0\", \"B000PIE1AW\", \"B00113KENS\", \"B007RIR2XQ\", \"B0055VCL8S\", \"B008RBMHNW\"]  B001GE74OO    Bowen Designs           [\"Toys & Games\", \"Action Figures & Statues\", \"Statues & Bobbleheads\", \"Statues\"]                                                                                                                                                                                                                                                                                                                                                                                                                                                                                                                                                                                                                                                                                                                                                                                                                                                                                                                                                                                                                                         [\"The Master Sculptors From Bowen Designs Present The Next Statue In Their Line Of Popular Marvel Statues With Deadpool. This Statue Of The Merc With a Mouth Stands over 12\\\" Tall And Is Sculpted By Erick Sosa. Fully Painted And Ready For Display.\"]         None                    None                                                                                                                                                                                                                                                                                                                                                                   [\"Limited Edition Of 2500\", \"Sculpted By Erick Sosa\", \"Released On August 2005\", \"Stands Over 14 Inches Tall\"]                                                                                                                                                                                                                                 []  $595.00                                                                                                                                                                                                 [\">#3,769,361 in Toys & Games (See Top 100 in Toys & Games)\",\">#14,925 in Toys & Games > Action & Toy Figures > Statues & Bobbleheads > Statues\"]                                                                                                                                                                                                                                                                                                                                                                                                                                                                                                                                                                                                                                                                                                                                                                                                                                                                                                                                                                                                                                                                                                                                                                                                                                                                                                                                                                                                                                                                                                                                                                                                                                                                                                                                                                                                                                                                                                                                                                                                                                                                                                                                                                                                                                                                                                                                                                                                                                                                                                                                                                                                                                                                                                                                                                                                                                                                                                                                                                                                                                          Deadpool Statue by Bowen Designs!\n",
              "4       []                                                                                                                                                                                                                                                            []  B00CXAC5PI          Generic           [\"Home & Kitchen\", \"Home Dcor\", \"Candles & Holders\", \"Candles\", \"Taper Candles\"]                                                                                                                                                                                                                                                                                                                                                                                                                                                                                                                                                                                                                                                                                                                                                                                                                                                                                                                                                                                                                                                                                                                                                                                                                                              [\"1 Dozen (12) 6\\\" Brown Household Tapered Candles\"]         None                    None                                                                                                                                                                                                                                                                                                                                                                                                                                                                               []                                                                                                                                                                                                                                 []   $10.85                                                                                                                                                                                           [\">#3,765,112 in Home & Kitchen (See Top 100 in Home & Kitchen)\",\">#1,658 in Home & Kitchen > Home Dcor > Candles & Holders > Candles > Taper Candles\"]                                                                                                                                                                                                                                                                                                                                                                                                                                                                                                                                                                                                                                                                                                                                                                                                                                                                                                                                                                                                                                                                                                                                                                                                                                                                                                                                                                                                                                                                                                                                                                                                                                                                                                                                                                                                                                                                                                                                                                                                                                                                                                                                                                                                                                                                                                                                                                                                                                                                                                                                                                                                                                                                                                                                                                                                                                                                                                                                                                                                                               1 Dozen Brown Household Tapered Candles (12)"
            ]
          },
          "execution_count": 19,
          "metadata": {},
          "output_type": "execute_result"
        }
      ],
      "source": [
        "df_pandas.head()"
      ]
    },
    {
      "cell_type": "code",
      "execution_count": 25,
      "metadata": {
        "jupyter": {
          "outputs_hidden": false,
          "source_hidden": false
        },
        "nteract": {
          "transient": {
            "deleting": false
          }
        }
      },
      "outputs": [
        {
          "data": {
            "application/vnd.livy.statement-meta+json": {
              "execution_finish_time": "2023-07-27T12:20:14.3288366Z",
              "execution_start_time": "2023-07-27T12:14:03.3402783Z",
              "livy_statement_state": "available",
              "parent_msg_id": "685aeca4-d9c5-40ae-a219-9dc6c7f3e572",
              "queued_time": "2023-07-27T12:14:03.1734122Z",
              "session_id": "8",
              "session_start_time": null,
              "spark_jobs": null,
              "spark_pool": "synsp03",
              "state": "finished",
              "statement_id": 11
            },
            "text/plain": [
              "StatementMeta(synsp03, 8, 11, Finished, Available)"
            ]
          },
          "metadata": {},
          "output_type": "display_data"
        },
        {
          "name": "stderr",
          "output_type": "stream",
          "text": [
            "/opt/spark/python/lib/pyspark.zip/pyspark/pandas/internal.py:1573: FutureWarning: iteritems is deprecated and will be removed in a future version. Use .items instead.\n",
            "  fields = [\n",
            "/opt/spark/python/lib/pyspark.zip/pyspark/sql/pandas/conversion.py:604: FutureWarning: iteritems is deprecated and will be removed in a future version. Use .items instead.\n",
            "  [(c, t) for (_, c), t in zip(pdf_slice.iteritems(), arrow_types)]\n"
          ]
        },
        {
          "data": {
            "text/plain": [
              "also_buy                    3612263\n",
              "also_view                   4326054\n",
              "category                    1475093\n",
              "description                 8288904\n",
              "feature                     7015893\n",
              "image                       5741980\n",
              "tech1                       1848142\n",
              "tech2                         49884\n",
              "asin                       14741571\n",
              "brand                       2307902\n",
              "details_asin                1741875\n",
              "details_shipping_weight        3195\n",
              "price                        236142\n",
              "rank                       13402088\n",
              "title                      14127828\n",
              "dtype: int64"
            ]
          },
          "execution_count": 23,
          "metadata": {},
          "output_type": "execute_result"
        }
      ],
      "source": [
        "df_pandas.nunique(axis=0)\n"
      ]
    },
    {
      "cell_type": "code",
      "execution_count": null,
      "metadata": {
        "jupyter": {
          "outputs_hidden": true,
          "source_hidden": false
        },
        "nteract": {
          "transient": {
            "deleting": false
          }
        }
      },
      "outputs": [],
      "source": []
    }
  ],
  "metadata": {
    "description": null,
    "kernel_info": {
      "name": "synapse_pyspark"
    },
    "kernelspec": {
      "display_name": "Synapse PySpark",
      "language": "Python",
      "name": "synapse_pyspark"
    },
    "language_info": {
      "name": "python"
    },
    "save_output": true,
    "synapse_widget": {
      "state": {},
      "version": "0.1"
    }
  },
  "nbformat": 4,
  "nbformat_minor": 2
}
