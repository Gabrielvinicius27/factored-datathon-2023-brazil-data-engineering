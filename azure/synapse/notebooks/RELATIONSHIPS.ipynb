{
 "cells": [
  {
   "cell_type": "code",
   "execution_count": 1,
   "metadata": {},
   "outputs": [
    {
     "name": "stderr",
     "output_type": "stream",
     "text": [
      "c:\\Python38\\lib\\site-packages\\numpy\\_distributor_init.py:30: UserWarning: loaded more than 1 DLL from .libs:\n",
      "c:\\Python38\\lib\\site-packages\\numpy\\.libs\\libopenblas.NOIJJG62EMASZI6NYURL6JBKM4EVBGM7.gfortran-win_amd64.dll\n",
      "c:\\Python38\\lib\\site-packages\\numpy\\.libs\\libopenblas64__v0.3.21-gcc_10_3_0.dll\n",
      "  warnings.warn(\"loaded more than 1 DLL from .libs:\"\n"
     ]
    }
   ],
   "source": [
    "import neo4j\n",
    "import os\n",
    "from dotenv import load_dotenv\n",
    "from pyspark.sql import SparkSession\n",
    "import pyspark.sql.functions as F"
   ]
  },
  {
   "cell_type": "code",
   "execution_count": 2,
   "metadata": {},
   "outputs": [],
   "source": [
    "load_dotenv()\n",
    "\n",
    "STORAGE_ACCOUNT_NAME = os.getenv('STORAGE_ACCOUNT_NAME')\n",
    "STORAGE_ACCOUNT_KEY = os.getenv('STORAGE_ACCOUNT_KEY')\n",
    "\n",
    "builder = SparkSession.builder\\\n",
    "        .config(\"spark.jars.packages\", \"org.apache.hadoop:hadoop-azure:3.3.4,\\\n",
    "io.delta:delta-core_2.12:2.4.0,\\\n",
    "io.delta:delta-storage:2.4.0\")\\\n",
    "        .config(f\"fs.azure.account.key.{STORAGE_ACCOUNT_NAME}.dfs.core.windows.net\", f\"{STORAGE_ACCOUNT_KEY}\")\\\n",
    "        .config(\"spark.sql.extensions\", \"io.delta.sql.DeltaSparkSessionExtension\")\\\n",
    "        .config(\"spark.sql.catalog.spark_catalog\", \"org.apache.spark.sql.delta.catalog.DeltaCatalog\")\n",
    "\n",
    "spark = builder.getOrCreate()"
   ]
  },
  {
   "cell_type": "markdown",
   "metadata": {},
   "source": [
    "## Product Graphs"
   ]
  },
  {
   "cell_type": "code",
   "execution_count": 24,
   "metadata": {},
   "outputs": [
    {
     "name": "stdout",
     "output_type": "stream",
     "text": [
      "+----------+--------------------+--------------------+-------------------+--------------------+--------------------+--------------------+------+\n",
      "|      asin|               title|               brand|      main_category|     second_category|      third_category|     fourth_category|  rank|\n",
      "+----------+--------------------+--------------------+-------------------+--------------------+--------------------+--------------------+------+\n",
      "|B0002WSK8A|Lauren LA100C 39-...|              Lauren|Musical Instruments|             Guitars|Classical &amp; N...|                null|124391|\n",
      "|B0002FOHTI|Jones JR101MS Obo...|               Jones|Musical Instruments|Instrument Access...|Wind & Woodwind A...|               Reeds|  2949|\n",
      "|B0002F6K4S|S Series Splash C...|                    |Musical Instruments|  Drums & Percussion|Drum Sets & Set C...|             Cymbals|524988|\n",
      "|B00061UJBI|Pro Co 3' IPBQ2Q-...|              Pro Co|Musical Instruments|Live Sound &amp; ...|Stage &amp; Studi...|   Instrument Cables|106182|\n",
      "|B0002GFTJE|Remo KS0006-PH Do...|                Remo|Musical Instruments|Instrument Access...|Drum & Percussion...|Drum Set Accessories| 21719|\n",
      "|B0002VR9HY|Rackmount Guitar ...|           Wallacher|Musical Instruments|             Guitars|                null|                null|591941|\n",
      "|B0002GYV8E|Zildjian K 14\" Hi...|Avedis Zildjian C...|Musical Instruments|Drums &amp; Percu...|Drum Sets &amp; S...|             Cymbals|164176|\n",
      "|B0009KKUBA|Perri's &quot;2&q...|             Perri's|Musical Instruments|Instrument Access...|Guitar & Bass Acc...|Straps & Strap Locks|497784|\n",
      "|B00078RWAQ|Pignose PGG-200 D...|             Pignose|Musical Instruments|             Guitars|    Electric Guitars|          Solid Body|143332|\n",
      "|B0002F6WSW|Gibraltar SC-JCM ...|           Gibraltar|Musical Instruments|Instrument Access...|Drum & Percussion...|            Hardware| 36576|\n",
      "|B0002H0RWC|Lee Oskar Harmoni...|Lee Oskar Harmonicas|Musical Instruments|Wind & Woodwind I...|        Folk & World|          Harmonicas| 28029|\n",
      "|B0002H0JZC|D'Addario EJ27N S...|           D'Addario|Musical Instruments|Instrument Access...|Guitar & Bass Acc...|             Strings|  1898|\n",
      "|B0006BH7WW|31\" Ennis Beginne...|           HarpsOnly|Musical Instruments|Band &amp; Orchestra|  Orchestral Strings|               Harps|346442|\n",
      "|B0006UGE9K|MXL 2006 Large Go...|                 MXL|Musical Instruments|Microphones &amp;...|         Microphones|Condenser Microph...| 61517|\n",
      "|B0002I1E8W|Tipper, 2 knob wi...|            Mid-East|Musical Instruments|Instrument Access...|                null|                null|589421|\n",
      "|B0002F592C|Vic Firth Corpsma...|           Vic Firth|Musical Instruments|Instrument Access...|Drum & Percussion...|          Drumsticks|243845|\n",
      "|B0002GMX7U|Ovation T357 Tang...|                    |Musical Instruments|  Drums & Percussion|     Hand Percussion|        Folk & World|580830|\n",
      "|B0007XY8TO|HWP H-TGN Pad Sav...|                  HW|Musical Instruments|Instrument Access...|Wind & Woodwind A...|                null| 15030|\n",
      "|B0002I9RCC|Whirlwind MK450 A...|           Whirlwind|Musical Instruments|Live Sound &amp; ...|Stage &amp; Studi...|   Microphone Cables| 32923|\n",
      "|B0002F7IBC|Denis Wick DW5882...|          Denis Wick|Musical Instruments|Instrument Access...|   Brass Accessories|         Mouthpieces| 88922|\n",
      "+----------+--------------------+--------------------+-------------------+--------------------+--------------------+--------------------+------+\n",
      "only showing top 20 rows\n",
      "\n"
     ]
    }
   ],
   "source": [
    "root = 'abfss://default@stdatalakeakita.dfs.core.windows.net/synapse/workspaces/syn-synfactoreddatathon01-dev'\n",
    "\n",
    "df = spark.read\\\n",
    ".format('parquet')\\\n",
    ".load(f'{root}/neo4j/products/**')\\\n",
    ".withColumnRenamed('2nd_category', 'second_category')\\\n",
    ".withColumnRenamed('3rd_category', 'third_category')\\\n",
    ".withColumnRenamed('4th_category', 'fourth_category')\\\n",
    "\n",
    "df.show()"
   ]
  },
  {
   "cell_type": "code",
   "execution_count": 55,
   "metadata": {},
   "outputs": [],
   "source": [
    "df.toPandas().to_csv('temp/products.csv', header=True)"
   ]
  },
  {
   "cell_type": "code",
   "execution_count": 38,
   "metadata": {},
   "outputs": [],
   "source": [
    "from neo4j import GraphDatabase\n",
    "import json\n",
    "driver = GraphDatabase.driver('neo4j://localhost:7687', auth=('neo4j', 'test123456'))\n"
   ]
  },
  {
   "cell_type": "code",
   "execution_count": 60,
   "metadata": {},
   "outputs": [
    {
     "data": {
      "text/plain": [
       "EagerResult(records=[], summary=<neo4j._work.summary.ResultSummary object at 0x000001A08BBFD3D0>, keys=[])"
      ]
     },
     "execution_count": 60,
     "metadata": {},
     "output_type": "execute_result"
    }
   ],
   "source": [
    "driver.execute_query(\"\"\"\n",
    "    LOAD CSV WITH HEADERS FROM 'file:///products.csv' as row\n",
    "    WITH row WHERE row.asin IS NOT NULL\n",
    "    MERGE (p:Products {asin: row.asin, \n",
    "        title: row.title, \n",
    "        brand: COALESCE(row.brand, 'not found'),\n",
    "        main_category: COALESCE(row.main_category, 'not found'),\n",
    "        second_category: COALESCE(row.second_category, 'not found'), \n",
    "        third_category: COALESCE(row.third_category, 'not found'), \n",
    "        fourth_category: COALESCE(row.fourth_category, 'not found'),\n",
    "        rank: COALESCE(row.rank, 'not found')})\n",
    "    \"\"\"\n",
    ")"
   ]
  }
 ],
 "metadata": {
  "kernelspec": {
   "display_name": "Python 3",
   "language": "python",
   "name": "python3"
  },
  "language_info": {
   "codemirror_mode": {
    "name": "ipython",
    "version": 3
   },
   "file_extension": ".py",
   "mimetype": "text/x-python",
   "name": "python",
   "nbconvert_exporter": "python",
   "pygments_lexer": "ipython3",
   "version": "3.8.5"
  },
  "orig_nbformat": 4
 },
 "nbformat": 4,
 "nbformat_minor": 2
}
