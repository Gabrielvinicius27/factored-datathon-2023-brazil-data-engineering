{
 "cells": [
  {
   "cell_type": "code",
   "execution_count": 73,
   "metadata": {},
   "outputs": [],
   "source": [
    "import neo4j\n",
    "import os\n",
    "from dotenv import load_dotenv\n",
    "from pyspark.sql import SparkSession\n",
    "import pyspark.sql.functions as F"
   ]
  },
  {
   "cell_type": "code",
   "execution_count": 99,
   "metadata": {},
   "outputs": [],
   "source": [
    "load_dotenv()\n",
    "\n",
    "STORAGE_ACCOUNT_NAME = os.getenv('STORAGE_ACCOUNT_NAME')\n",
    "STORAGE_ACCOUNT_KEY = os.getenv('STORAGE_ACCOUNT_KEY')\n",
    "NEO4J_PASSWORD = os.getenv('NEO4J_PASSWORD')\n",
    "\n",
    "builder = SparkSession.builder\\\n",
    "        .config(\"spark.jars.packages\", \"org.apache.hadoop:hadoop-azure:3.3.4,\\\n",
    "io.delta:delta-core_2.12:2.4.0,\\\n",
    "io.delta:delta-storage:2.4.0\")\\\n",
    "        .config(f\"fs.azure.account.key.{STORAGE_ACCOUNT_NAME}.dfs.core.windows.net\", f\"{STORAGE_ACCOUNT_KEY}\")\\\n",
    "        .config(\"spark.sql.extensions\", \"io.delta.sql.DeltaSparkSessionExtension\")\\\n",
    "        .config(\"spark.sql.catalog.spark_catalog\", \"org.apache.spark.sql.delta.catalog.DeltaCatalog\")\n",
    "\n",
    "spark = builder.getOrCreate()"
   ]
  },
  {
   "cell_type": "markdown",
   "metadata": {},
   "source": [
    "## Product Nodes"
   ]
  },
  {
   "cell_type": "code",
   "execution_count": 100,
   "metadata": {},
   "outputs": [
    {
     "name": "stdout",
     "output_type": "stream",
     "text": [
      "+----------+--------------------+--------------------+-------------------+--------------------+--------------------+--------------------+------+\n",
      "|      asin|               title|               brand|      main_category|     second_category|      third_category|     fourth_category|  rank|\n",
      "+----------+--------------------+--------------------+-------------------+--------------------+--------------------+--------------------+------+\n",
      "|B0002WSK8A|Lauren LA100C 39-...|              Lauren|Musical Instruments|             Guitars|Classical &amp; N...|                null|124391|\n",
      "|B0002FOHTI|Jones JR101MS Obo...|               Jones|Musical Instruments|Instrument Access...|Wind & Woodwind A...|               Reeds|  2949|\n",
      "|B0002F6K4S|S Series Splash C...|                    |Musical Instruments|  Drums & Percussion|Drum Sets & Set C...|             Cymbals|524988|\n",
      "|B00061UJBI|Pro Co 3' IPBQ2Q-...|              Pro Co|Musical Instruments|Live Sound &amp; ...|Stage &amp; Studi...|   Instrument Cables|106182|\n",
      "|B0002GFTJE|Remo KS0006-PH Do...|                Remo|Musical Instruments|Instrument Access...|Drum & Percussion...|Drum Set Accessories| 21719|\n",
      "|B0002VR9HY|Rackmount Guitar ...|           Wallacher|Musical Instruments|             Guitars|                null|                null|591941|\n",
      "|B0002GYV8E|Zildjian K 14\" Hi...|Avedis Zildjian C...|Musical Instruments|Drums &amp; Percu...|Drum Sets &amp; S...|             Cymbals|164176|\n",
      "|B0009KKUBA|Perri's &quot;2&q...|             Perri's|Musical Instruments|Instrument Access...|Guitar & Bass Acc...|Straps & Strap Locks|497784|\n",
      "|B00078RWAQ|Pignose PGG-200 D...|             Pignose|Musical Instruments|             Guitars|    Electric Guitars|          Solid Body|143332|\n",
      "|B0002F6WSW|Gibraltar SC-JCM ...|           Gibraltar|Musical Instruments|Instrument Access...|Drum & Percussion...|            Hardware| 36576|\n",
      "|B0002H0RWC|Lee Oskar Harmoni...|Lee Oskar Harmonicas|Musical Instruments|Wind & Woodwind I...|        Folk & World|          Harmonicas| 28029|\n",
      "|B0002H0JZC|D'Addario EJ27N S...|           D'Addario|Musical Instruments|Instrument Access...|Guitar & Bass Acc...|             Strings|  1898|\n",
      "|B0006BH7WW|31\" Ennis Beginne...|           HarpsOnly|Musical Instruments|Band &amp; Orchestra|  Orchestral Strings|               Harps|346442|\n",
      "|B0006UGE9K|MXL 2006 Large Go...|                 MXL|Musical Instruments|Microphones &amp;...|         Microphones|Condenser Microph...| 61517|\n",
      "|B0002I1E8W|Tipper, 2 knob wi...|            Mid-East|Musical Instruments|Instrument Access...|                null|                null|589421|\n",
      "|B0002F592C|Vic Firth Corpsma...|           Vic Firth|Musical Instruments|Instrument Access...|Drum & Percussion...|          Drumsticks|243845|\n",
      "|B0002GMX7U|Ovation T357 Tang...|                    |Musical Instruments|  Drums & Percussion|     Hand Percussion|        Folk & World|580830|\n",
      "|B0007XY8TO|HWP H-TGN Pad Sav...|                  HW|Musical Instruments|Instrument Access...|Wind & Woodwind A...|                null| 15030|\n",
      "|B0002I9RCC|Whirlwind MK450 A...|           Whirlwind|Musical Instruments|Live Sound &amp; ...|Stage &amp; Studi...|   Microphone Cables| 32923|\n",
      "|B0002F7IBC|Denis Wick DW5882...|          Denis Wick|Musical Instruments|Instrument Access...|   Brass Accessories|         Mouthpieces| 88922|\n",
      "+----------+--------------------+--------------------+-------------------+--------------------+--------------------+--------------------+------+\n",
      "only showing top 20 rows\n",
      "\n"
     ]
    }
   ],
   "source": [
    "root = 'abfss://default@stdatalakeakita.dfs.core.windows.net/synapse/workspaces/syn-synfactoreddatathon01-dev'\n",
    "\n",
    "df = spark.read\\\n",
    ".format('parquet')\\\n",
    ".load(f'{root}/neo4j/products/**')\\\n",
    ".withColumnRenamed('2nd_category', 'second_category')\\\n",
    ".withColumnRenamed('3rd_category', 'third_category')\\\n",
    ".withColumnRenamed('4th_category', 'fourth_category')\\\n",
    "\n",
    "df.show()"
   ]
  },
  {
   "cell_type": "code",
   "execution_count": 101,
   "metadata": {},
   "outputs": [],
   "source": [
    "df.toPandas().to_csv('temp/products.csv', header=True, index=False)"
   ]
  },
  {
   "cell_type": "code",
   "execution_count": 79,
   "metadata": {},
   "outputs": [],
   "source": [
    "from neo4j import GraphDatabase\n",
    "import json\n",
    "driver = GraphDatabase.driver('neo4j+s://5e7957dd.databases.neo4j.io:7687', auth=('neo4j', NEO4J_PASSWORD))\n"
   ]
  },
  {
   "cell_type": "code",
   "execution_count": 84,
   "metadata": {},
   "outputs": [
    {
     "data": {
      "text/plain": [
       "EagerResult(records=[], summary=<neo4j._work.summary.ResultSummary object at 0x000001A08B72F460>, keys=[])"
      ]
     },
     "execution_count": 84,
     "metadata": {},
     "output_type": "execute_result"
    }
   ],
   "source": [
    "driver.execute_query(\"\"\"\n",
    "    LOAD CSV WITH HEADERS FROM 'file:///products.csv' as row\n",
    "    WITH row WHERE row.asin IS NOT NULL\n",
    "    MERGE (p:Products {\n",
    "        id: row.asin,\n",
    "        asin: row.asin, \n",
    "        title: row.title, \n",
    "        brand: COALESCE(row.brand, 'not found'),\n",
    "        main_category: COALESCE(row.main_category, 'not found'),\n",
    "        second_category: COALESCE(row.second_category, 'not found'), \n",
    "        third_category: COALESCE(row.third_category, 'not found'), \n",
    "        fourth_category: COALESCE(row.fourth_category, 'not found'),\n",
    "        rank: COALESCE(row.rank, 'not found')})\n",
    "    \"\"\"\n",
    ")"
   ]
  },
  {
   "cell_type": "markdown",
   "metadata": {},
   "source": [
    "## Customer Nodes"
   ]
  },
  {
   "cell_type": "code",
   "execution_count": 102,
   "metadata": {},
   "outputs": [
    {
     "name": "stdout",
     "output_type": "stream",
     "text": [
      "+--------------+\n",
      "|   reviewer_id|\n",
      "+--------------+\n",
      "|A3BOAYLC2OP2NF|\n",
      "|A1UW013BFJUTXJ|\n",
      "|A39MX8JDGSS0ZG|\n",
      "|A2N3PO11MVLCME|\n",
      "|A2K99VYA7L0WAU|\n",
      "|A3C7PMCLAJ3SD2|\n",
      "|A30KJ99QX32SG1|\n",
      "|A1BV4T1Z5759VP|\n",
      "|A36501MWDY5ANK|\n",
      "| AL1DO54IYBNYT|\n",
      "|A30K1UAL77VB1A|\n",
      "|A1IR0HICH5PVC6|\n",
      "|A1YO1LFYOITMV9|\n",
      "|A34VHT94QBTMR7|\n",
      "|A1XSRMPA72NP2T|\n",
      "|A36IVDWLLJDHNK|\n",
      "|A3D6IZ9DP2UXYX|\n",
      "|A12WAZTOG92ROR|\n",
      "|A2AX3KL9LDO00X|\n",
      "|A3OH9JQTW5R3R2|\n",
      "+--------------+\n",
      "only showing top 20 rows\n",
      "\n"
     ]
    }
   ],
   "source": [
    "root = 'abfss://default@stdatalakeakita.dfs.core.windows.net/synapse/workspaces/syn-synfactoreddatathon01-dev'\n",
    "\n",
    "df = spark.read\\\n",
    ".format('parquet')\\\n",
    ".load(f'{root}/neo4j/customers/**')\n",
    "\n",
    "df.show()"
   ]
  },
  {
   "cell_type": "code",
   "execution_count": 103,
   "metadata": {},
   "outputs": [],
   "source": [
    "df.toPandas().to_csv('temp/customers.csv', header=True, index=False)"
   ]
  },
  {
   "cell_type": "code",
   "execution_count": 86,
   "metadata": {},
   "outputs": [
    {
     "data": {
      "text/plain": [
       "EagerResult(records=[], summary=<neo4j._work.summary.ResultSummary object at 0x000001A08B3BCE50>, keys=[])"
      ]
     },
     "execution_count": 86,
     "metadata": {},
     "output_type": "execute_result"
    }
   ],
   "source": [
    "load_dotenv()\n",
    "NEO4J_PASSWORD = os.getenv('NEO4J_PASSWORD')\n",
    "\n",
    "driver = GraphDatabase.driver('neo4j://localhost:7687', auth=('neo4j', NEO4J_PASSWORD))\n",
    "\n",
    "driver.execute_query(\"\"\"\n",
    "    LOAD CSV WITH HEADERS FROM 'file:///customers.csv' as row\n",
    "    WITH row WHERE row.reviewer_id IS NOT NULL\n",
    "    MERGE (c:Customers {reviewer_id: row.reviewer_id})\n",
    "    \"\"\"\n",
    ")"
   ]
  },
  {
   "cell_type": "markdown",
   "metadata": {},
   "source": [
    "## Review Relatioships"
   ]
  },
  {
   "cell_type": "code",
   "execution_count": 104,
   "metadata": {},
   "outputs": [
    {
     "name": "stdout",
     "output_type": "stream",
     "text": [
      "+--------------+-------+--------------------+--------------------+----------+--------+\n",
      "|   reviewer_id|overall|             summary|    review_timestamp|      asin|    type|\n",
      "+--------------+-------+--------------------+--------------------+----------+--------+\n",
      "|A3TBJ93ULYA7HX|    5.0|           very good|2023-07-28 18:48:...|B0002F751U|REVIEWED|\n",
      "| AS3JHENSQ43RV|    5.0|        none better.|2023-07-29 23:14:...|B0002GZSSG|REVIEWED|\n",
      "|A2ARISNBYH1NC4|    5.0|The only strings ...|2023-07-28 20:41:...|B0002FO3LU|REVIEWED|\n",
      "|A15MKE6IFGO6ZH|    5.0|The is the humbuc...|2023-07-28 21:39:...|B0002GLAEW|REVIEWED|\n",
      "|A1W98JOPERVYAA|    5.0|          Five Stars|2023-07-30 00:34:...|B0002I8Y6W|REVIEWED|\n",
      "|A2YKBFCDRJIR26|    5.0|Difficult to play...|2023-07-27 21:10:...|B0002F4WCU|REVIEWED|\n",
      "|A1PD4ZVU9KRRME|    5.0|KEYBOARD CHORD CO...|2023-08-02 00:15:...|B00078HZJE|REVIEWED|\n",
      "|A2A8CQJYR4YGMU|    5.0|          Five Stars|2023-08-02 22:55:...|B0009OW988|REVIEWED|\n",
      "| ASLA66R1BK8AG|    5.0|Love it, love it,...|2023-07-27 21:50:...|B0002F559E|REVIEWED|\n",
      "|A2GZA7Q65YSH0G|    1.0|            One Star|2023-07-29 21:28:...|B0002GVEKW|REVIEWED|\n",
      "| ANP4U3EJ3KKTB|    5.0|Cuts through the ...|2023-07-27 22:15:...|B0002F5HTC|REVIEWED|\n",
      "|A176KPSHAC2KUU|    5.0|        Great sound!|2023-07-31 19:43:...|B0002INL4W|REVIEWED|\n",
      "|A1O5J3HNDM1OH9|    4.0|          Four Stars|2023-07-29 21:28:...|B0002GVEKW|REVIEWED|\n",
      "|A1ZXPP7XD6D073|    5.0|perfect for slapp...|2023-07-28 20:41:...|B0002FO3LU|REVIEWED|\n",
      "| ATW16RHWQ5GP6|    5.0|              great!|2023-07-28 21:17:...|B0002GIWZM|REVIEWED|\n",
      "|A3OSRD2LWQIE68|    3.0|           It's okay|2023-07-29 21:45:...|B0002GU1EW|REVIEWED|\n",
      "|A2OP6SD36OFD79|    1.0|            One Star|2023-07-31 21:29:...|B0002M728Y|REVIEWED|\n",
      "|A2QDMOCH2WUXU4|    5.0|          Five Stars|2023-07-27 22:28:...|B0002F5GZW|REVIEWED|\n",
      "| ARNPFUHVBBHIJ|    5.0|       great product|2023-07-27 21:50:...|B0002F559E|REVIEWED|\n",
      "| A6VI3BP066YRU|    2.0|its good tone is ...|2023-07-29 23:00:...|B0002H0KGU|REVIEWED|\n",
      "+--------------+-------+--------------------+--------------------+----------+--------+\n",
      "only showing top 20 rows\n",
      "\n"
     ]
    }
   ],
   "source": [
    "root = 'abfss://default@stdatalakeakita.dfs.core.windows.net/synapse/workspaces/syn-synfactoreddatathon01-dev'\n",
    "\n",
    "df = spark.read\\\n",
    ".format('parquet')\\\n",
    ".load(f'{root}/neo4j/reviews/**')\\\n",
    ".withColumn('review_timestamp', F.col('review_timestamp').cast('string'))\n",
    "df.show()"
   ]
  },
  {
   "cell_type": "code",
   "execution_count": 105,
   "metadata": {},
   "outputs": [],
   "source": [
    "df.toPandas().to_csv('temp/review.csv', header=True, index=False)"
   ]
  },
  {
   "cell_type": "code",
   "execution_count": 98,
   "metadata": {},
   "outputs": [
    {
     "data": {
      "text/plain": [
       "EagerResult(records=[], summary=<neo4j._work.summary.ResultSummary object at 0x000001A09D1FEE80>, keys=[])"
      ]
     },
     "execution_count": 98,
     "metadata": {},
     "output_type": "execute_result"
    }
   ],
   "source": [
    "load_dotenv()\n",
    "NEO4J_PASSWORD = os.getenv('NEO4J_PASSWORD')\n",
    "\n",
    "driver = GraphDatabase.driver('neo4j://localhost:7687', auth=('neo4j', NEO4J_PASSWORD))\n",
    "\n",
    "driver.execute_query(\"\"\"\n",
    "    LOAD CSV WITH HEADERS FROM 'file:///review.csv' as row\n",
    "    WITH row WHERE row.reviewer_id IS NOT NULL\n",
    "    MATCH \n",
    "        (p:Products {asin: row.asin}),\n",
    "        (c:Customers {reviewer_id: row.reviewer_id})\n",
    "    CREATE (c)-[:REVIEWED{overall: row.overall, summary: row.summary, review_timestamp:row.review_timestamp}]->(p);\n",
    "    \"\"\"\n",
    ")"
   ]
  },
  {
   "cell_type": "markdown",
   "metadata": {},
   "source": [
    "## Second Category Nodes"
   ]
  },
  {
   "cell_type": "code",
   "execution_count": 106,
   "metadata": {},
   "outputs": [
    {
     "name": "stdout",
     "output_type": "stream",
     "text": [
      "+--------------------+\n",
      "|     second_category|\n",
      "+--------------------+\n",
      "|Wind &amp; Woodwi...|\n",
      "|        Bass Guitars|\n",
      "|Instrument Access...|\n",
      "|    Electronic Music|\n",
      "|Studio Recording ...|\n",
      "|Microphones & Acc...|\n",
      "|Amplifiers & Effects|\n",
      "|  Drums & Percussion|\n",
      "|    Band & Orchestra|\n",
      "|Amplifiers &amp; ...|\n",
      "|             Guitars|\n",
      "|  Live Sound & Stage|\n",
      "|Wind & Woodwind I...|\n",
      "|Drums &amp; Percu...|\n",
      "|            Ukuleles|\n",
      "|Microphones &amp;...|\n",
      "|Live Sound &amp; ...|\n",
      "|Stringed Instruments|\n",
      "|Band &amp; Orchestra|\n",
      "|    Keyboards & MIDI|\n",
      "+--------------------+\n",
      "only showing top 20 rows\n",
      "\n"
     ]
    }
   ],
   "source": [
    "root = 'abfss://default@stdatalakeakita.dfs.core.windows.net/synapse/workspaces/syn-synfactoreddatathon01-dev'\n",
    "\n",
    "df = spark.read\\\n",
    ".format('parquet')\\\n",
    ".load(f'{root}/neo4j/second_category/**')\n",
    "\n",
    "df.show()"
   ]
  },
  {
   "cell_type": "code",
   "execution_count": 107,
   "metadata": {},
   "outputs": [],
   "source": [
    "df.toPandas().to_csv('temp/second_category.csv', header=True, index=False)"
   ]
  },
  {
   "cell_type": "markdown",
   "metadata": {},
   "source": [
    "## Brand Nodes"
   ]
  },
  {
   "cell_type": "code",
   "execution_count": 108,
   "metadata": {},
   "outputs": [
    {
     "name": "stdout",
     "output_type": "stream",
     "text": [
      "+--------------------+\n",
      "|               brand|\n",
      "+--------------------+\n",
      "|                Nady|\n",
      "|       Propellerhead|\n",
      "|           Vic Firth|\n",
      "|            DigiTech|\n",
      "|by\\n    \\n    Pri...|\n",
      "|                Dava|\n",
      "|    Latin Percussion|\n",
      "|       Austin Bazaar|\n",
      "|           Gibraltar|\n",
      "|    Meinl Percussion|\n",
      "|         Blaze Audio|\n",
      "| Lark in the Morning|\n",
      "|                 AMG|\n",
      "|            Hamilton|\n",
      "|          Ernie Ball|\n",
      "|            Generic.|\n",
      "| D'Addario Woodwinds|\n",
      "|         Slide-O-Mix|\n",
      "|               WUHAN|\n",
      "|       Clayton Picks|\n",
      "+--------------------+\n",
      "only showing top 20 rows\n",
      "\n"
     ]
    }
   ],
   "source": [
    "root = 'abfss://default@stdatalakeakita.dfs.core.windows.net/synapse/workspaces/syn-synfactoreddatathon01-dev'\n",
    "\n",
    "df = spark.read\\\n",
    ".format('parquet')\\\n",
    ".load(f'{root}/neo4j/brand/**')\n",
    "\n",
    "df.show()"
   ]
  },
  {
   "cell_type": "code",
   "execution_count": 109,
   "metadata": {},
   "outputs": [],
   "source": [
    "df.toPandas().to_csv('temp/brand.csv', header=True, index=False)"
   ]
  }
 ],
 "metadata": {
  "kernelspec": {
   "display_name": "Python 3",
   "language": "python",
   "name": "python3"
  },
  "language_info": {
   "codemirror_mode": {
    "name": "ipython",
    "version": 3
   },
   "file_extension": ".py",
   "mimetype": "text/x-python",
   "name": "python",
   "nbconvert_exporter": "python",
   "pygments_lexer": "ipython3",
   "version": "3.8.5"
  },
  "orig_nbformat": 4
 },
 "nbformat": 4,
 "nbformat_minor": 2
}
