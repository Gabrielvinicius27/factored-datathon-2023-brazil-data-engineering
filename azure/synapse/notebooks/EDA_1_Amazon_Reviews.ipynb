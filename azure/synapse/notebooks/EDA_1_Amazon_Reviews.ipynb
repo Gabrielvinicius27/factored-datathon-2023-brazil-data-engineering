{
  "cells": [
    {
      "cell_type": "markdown",
      "metadata": {
        "nteract": {
          "transient": {
            "deleting": false
          }
        }
      },
      "source": [
        "# Exploring Amazon Reviews Dataset"
      ]
    },
    {
      "cell_type": "markdown",
      "metadata": {
        "nteract": {
          "transient": {
            "deleting": false
          }
        }
      },
      "source": [
        "## Importing Libs"
      ]
    },
    {
      "cell_type": "code",
      "execution_count": 1,
      "metadata": {},
      "outputs": [
        {
          "data": {
            "application/vnd.livy.statement-meta+json": {
              "execution_finish_time": "2023-07-30T21:47:51.4444398Z",
              "execution_start_time": "2023-07-30T21:47:33.8839297Z",
              "livy_statement_state": "available",
              "parent_msg_id": "78a72012-6c8f-4d88-b77d-680540069c4d",
              "queued_time": "2023-07-30T21:44:16.5579213Z",
              "session_id": "18",
              "session_start_time": "2023-07-30T21:44:16.6176174Z",
              "spark_jobs": null,
              "spark_pool": "synsp03",
              "state": "finished",
              "statement_id": 2
            },
            "text/plain": [
              "StatementMeta(synsp03, 18, 2, Finished, Available)"
            ]
          },
          "metadata": {},
          "output_type": "display_data"
        },
        {
          "name": "stdout",
          "output_type": "stream",
          "text": [
            "'PYARROW_IGNORE_TIMEZONE' environment variable was not set. It is required to set this environment variable to '1' in both driver and executor sides if you use pyarrow>=2.0.0. pandas-on-Spark will set it for you but it does not work if there is a Spark context already launched.\n"
          ]
        }
      ],
      "source": [
        "import pyspark.pandas as ps\n",
        "import numpy as np\n",
        "import pandas as pd\n",
        "import matplotlib.pylab as plt\n",
        "import seaborn as sns\n",
        "import pyspark.sql.functions as F\n",
        "from pyspark.sql.types import StructType,StructField, StringType"
      ]
    },
    {
      "cell_type": "markdown",
      "metadata": {
        "nteract": {
          "transient": {
            "deleting": false
          }
        }
      },
      "source": [
        "## Selecting only reviews for automotive products"
      ]
    },
    {
      "cell_type": "code",
      "execution_count": 2,
      "metadata": {
        "jupyter": {
          "outputs_hidden": false,
          "source_hidden": false
        },
        "nteract": {
          "transient": {
            "deleting": false
          }
        }
      },
      "outputs": [
        {
          "data": {
            "application/vnd.livy.statement-meta+json": {
              "execution_finish_time": "2023-07-30T21:48:16.9213838Z",
              "execution_start_time": "2023-07-30T21:47:51.6080623Z",
              "livy_statement_state": "available",
              "parent_msg_id": "814d96dc-7aab-4d1a-9e33-5af5b9310712",
              "queued_time": "2023-07-30T21:44:16.558984Z",
              "session_id": "18",
              "session_start_time": null,
              "spark_jobs": null,
              "spark_pool": "synsp03",
              "state": "finished",
              "statement_id": 3
            },
            "text/plain": [
              "StatementMeta(synsp03, 18, 3, Finished, Available)"
            ]
          },
          "metadata": {},
          "output_type": "display_data"
        }
      ],
      "source": [
        "root = 'abfss://default@stdatalakeakita.dfs.core.windows.net/synapse/workspaces/syn-synfactoreddatathon01-dev'\n",
        "\n",
        "df = spark.read\\\n",
        ".format('parquet')\\\n",
        ".load(f'{root}/silver/silver_amazon_reviews/**')\\\n",
        ".repartition(2000)\n",
        "\n",
        "df_metadata_automotive = spark.read\\\n",
        ".format('parquet')\\\n",
        ".load(f'{root}/silver/silver_amazon_metadata_automotive/**')\\\n",
        ".repartition(200)\n",
        "\n",
        "df_reviews_automotive = df.join(\n",
        "    df_metadata_automotive,\n",
        "    on=['asin'],\n",
        "    how='inner'\n",
        ")\n",
        "\n",
        "df_pandas = df.pandas_api()\n",
        "df_pandas_reviews_automotive = df_reviews_automotive.pandas_api()"
      ]
    },
    {
      "cell_type": "markdown",
      "metadata": {
        "nteract": {
          "transient": {
            "deleting": false
          }
        }
      },
      "source": [
        "### This dataset originally have 13MM rows, 3MM after filtering automitve category "
      ]
    },
    {
      "cell_type": "code",
      "execution_count": 3,
      "metadata": {
        "jupyter": {
          "outputs_hidden": false,
          "source_hidden": false
        },
        "nteract": {
          "transient": {
            "deleting": false
          }
        }
      },
      "outputs": [
        {
          "data": {
            "application/vnd.livy.statement-meta+json": {
              "execution_finish_time": "2023-07-29T20:17:09.2870442Z",
              "execution_start_time": "2023-07-29T20:16:25.0609887Z",
              "livy_statement_state": "available",
              "parent_msg_id": "4bbc38cc-cf94-4488-946e-bc2ee003b26f",
              "queued_time": "2023-07-29T20:16:24.9134479Z",
              "session_id": "13",
              "session_start_time": null,
              "spark_jobs": null,
              "spark_pool": "synsp03",
              "state": "finished",
              "statement_id": 4
            },
            "text/plain": [
              "StatementMeta(synsp03, 13, 4, Finished, Available)"
            ]
          },
          "metadata": {},
          "output_type": "display_data"
        },
        {
          "name": "stdout",
          "output_type": "stream",
          "text": [
            "(138482350, 12)\n",
            "Index(['asin', 'review_timestamp', 'overall', 'review_text', 'reviewer_id',\n",
            "       'reviewer_name', 'summary', 'verified', 'vote', 'style_format',\n",
            "       'style_color', 'style_size'],\n",
            "      dtype='object')\n"
          ]
        }
      ],
      "source": [
        "print(df_pandas.shape)\n",
        "print(df_pandas.columns)"
      ]
    },
    {
      "cell_type": "code",
      "execution_count": 8,
      "metadata": {
        "jupyter": {
          "outputs_hidden": false,
          "source_hidden": false
        },
        "nteract": {
          "transient": {
            "deleting": false
          }
        }
      },
      "outputs": [
        {
          "data": {
            "application/vnd.livy.statement-meta+json": {
              "execution_finish_time": "2023-07-29T20:21:28.2646069Z",
              "execution_start_time": "2023-07-29T20:20:19.0452792Z",
              "livy_statement_state": "available",
              "parent_msg_id": "0059aa0c-8c2f-4b14-9993-0e7b05eaef28",
              "queued_time": "2023-07-29T20:20:18.7599327Z",
              "session_id": "13",
              "session_start_time": null,
              "spark_jobs": null,
              "spark_pool": "synsp03",
              "state": "finished",
              "statement_id": 9
            },
            "text/plain": [
              "StatementMeta(synsp03, 13, 9, Finished, Available)"
            ]
          },
          "metadata": {},
          "output_type": "display_data"
        },
        {
          "name": "stdout",
          "output_type": "stream",
          "text": [
            "(3478964, 26)\n",
            "Index(['asin', 'review_timestamp', 'overall', 'review_text', 'reviewer_id',\n",
            "       'reviewer_name', 'summary', 'verified', 'vote', 'style_format',\n",
            "       'style_color', 'style_size', 'title', 'brand', 'rank', 'category',\n",
            "       'main_category', '2nd_category', '3rd_category', '4th_category',\n",
            "       'description', 'feature', 'also_buy', 'also_buy_qty', 'also_view',\n",
            "       'also_view_qty'],\n",
            "      dtype='object')\n"
          ]
        }
      ],
      "source": [
        "print(df_pandas_reviews_automotive.shape)\n",
        "print(df_pandas_reviews_automotive.columns)"
      ]
    },
    {
      "cell_type": "markdown",
      "metadata": {
        "nteract": {
          "transient": {
            "deleting": false
          }
        }
      },
      "source": [
        "### Adding positive and negative overall flags, this will help on sentiment analysis"
      ]
    },
    {
      "cell_type": "code",
      "execution_count": 3,
      "metadata": {
        "jupyter": {
          "outputs_hidden": false,
          "source_hidden": false
        },
        "nteract": {
          "transient": {
            "deleting": false
          }
        }
      },
      "outputs": [
        {
          "data": {
            "application/vnd.livy.statement-meta+json": {
              "execution_finish_time": "2023-07-30T21:58:45.4163943Z",
              "execution_start_time": "2023-07-30T21:48:17.0984731Z",
              "livy_statement_state": "available",
              "parent_msg_id": "ac26ef97-5630-4938-b323-95ca3154d82d",
              "queued_time": "2023-07-30T21:44:22.6422938Z",
              "session_id": "18",
              "session_start_time": null,
              "spark_jobs": null,
              "spark_pool": "synsp03",
              "state": "finished",
              "statement_id": 4
            },
            "text/plain": [
              "StatementMeta(synsp03, 18, 4, Finished, Available)"
            ]
          },
          "metadata": {},
          "output_type": "display_data"
        }
      ],
      "source": [
        "df_reviews_automotive = (df_reviews_automotive\n",
        "    .withColumn('flg_positive_overall', F.when(\n",
        "        F.col('overall') >= F.lit(3), F.lit(True)\n",
        "        ).otherwise(F.lit(False))\n",
        "    )\n",
        "    .withColumn('flg_negative_overall', F.when(\n",
        "        F.col('overall') < F.lit(3), F.lit(True)\n",
        "        ).otherwise(F.lit(False))\n",
        "    )\n",
        "    .select(\n",
        "        F.col('reviewer_id')\n",
        "        , F.col('asin')\n",
        "        , F.col('title')\n",
        "        , F.col('rank')\n",
        "        , F.col('overall')\n",
        "        , F.col('flg_positive_overall')\n",
        "        , F.col('flg_negative_overall')\n",
        "        , F.col('summary')\n",
        "        , F.col('review_text')\n",
        "        , F.col('brand')\n",
        "        , F.col('2nd_category')\n",
        "        , F.col('3rd_category')\n",
        "        , F.col('4th_category')\n",
        "        , F.col('also_buy')\n",
        "        , F.col('also_buy_qty')\n",
        "        , F.col('also_view')\n",
        "        , F.col('also_view_qty')\n",
        "    )\n",
        ")\n",
        "\n",
        "(df_reviews_automotive\n",
        "    .write\n",
        "    .format('delta')\n",
        "    .mode('overwrite')\n",
        "    .save(f'{root}/silver/silver_amazon_reviews_automotive')\n",
        ")"
      ]
    },
    {
      "cell_type": "code",
      "execution_count": 6,
      "metadata": {
        "jupyter": {
          "outputs_hidden": false,
          "source_hidden": false
        },
        "nteract": {
          "transient": {
            "deleting": false
          }
        }
      },
      "outputs": [
        {
          "data": {
            "application/vnd.livy.statement-meta+json": {
              "execution_finish_time": "2023-07-29T21:00:04.2920261Z",
              "execution_start_time": "2023-07-29T20:57:20.7287794Z",
              "livy_statement_state": "available",
              "parent_msg_id": "9839587d-0f05-47d4-ada9-bd7db76137d5",
              "queued_time": "2023-07-29T20:47:12.956484Z",
              "session_id": "15",
              "session_start_time": null,
              "spark_jobs": null,
              "spark_pool": "synsp03",
              "state": "finished",
              "statement_id": 6
            },
            "text/plain": [
              "StatementMeta(synsp03, 15, 6, Finished, Available)"
            ]
          },
          "metadata": {},
          "output_type": "display_data"
        },
        {
          "data": {
            "text/html": [
              "<div>\n",
              "<style scoped>\n",
              "    .dataframe tbody tr th:only-of-type {\n",
              "        vertical-align: middle;\n",
              "    }\n",
              "\n",
              "    .dataframe tbody tr th {\n",
              "        vertical-align: top;\n",
              "    }\n",
              "\n",
              "    .dataframe thead th {\n",
              "        text-align: right;\n",
              "    }\n",
              "</style>\n",
              "<table border=\"1\" class=\"dataframe\">\n",
              "  <thead>\n",
              "    <tr style=\"text-align: right;\">\n",
              "      <th></th>\n",
              "      <th>rank</th>\n",
              "      <th>overall</th>\n",
              "      <th>also_buy_qty</th>\n",
              "      <th>also_view_qty</th>\n",
              "    </tr>\n",
              "  </thead>\n",
              "  <tbody>\n",
              "    <tr>\n",
              "      <th>count</th>\n",
              "      <td>3.462231e+06</td>\n",
              "      <td>3.478964e+06</td>\n",
              "      <td>3.478964e+06</td>\n",
              "      <td>3.478964e+06</td>\n",
              "    </tr>\n",
              "    <tr>\n",
              "      <th>mean</th>\n",
              "      <td>6.636593e+05</td>\n",
              "      <td>4.226817e+00</td>\n",
              "      <td>4.884604e+00</td>\n",
              "      <td>1.076120e+01</td>\n",
              "    </tr>\n",
              "    <tr>\n",
              "      <th>std</th>\n",
              "      <td>1.077200e+06</td>\n",
              "      <td>1.309845e+00</td>\n",
              "      <td>1.578215e+01</td>\n",
              "      <td>1.936393e+01</td>\n",
              "    </tr>\n",
              "    <tr>\n",
              "      <th>min</th>\n",
              "      <td>1.000000e+00</td>\n",
              "      <td>1.000000e+00</td>\n",
              "      <td>1.000000e+00</td>\n",
              "      <td>1.000000e+00</td>\n",
              "    </tr>\n",
              "    <tr>\n",
              "      <th>25%</th>\n",
              "      <td>3.713300e+04</td>\n",
              "      <td>4.000000e+00</td>\n",
              "      <td>1.000000e+00</td>\n",
              "      <td>1.000000e+00</td>\n",
              "    </tr>\n",
              "    <tr>\n",
              "      <th>50%</th>\n",
              "      <td>2.623810e+05</td>\n",
              "      <td>5.000000e+00</td>\n",
              "      <td>1.000000e+00</td>\n",
              "      <td>1.000000e+00</td>\n",
              "    </tr>\n",
              "    <tr>\n",
              "      <th>75%</th>\n",
              "      <td>7.913430e+05</td>\n",
              "      <td>5.000000e+00</td>\n",
              "      <td>1.000000e+00</td>\n",
              "      <td>4.000000e+00</td>\n",
              "    </tr>\n",
              "    <tr>\n",
              "      <th>max</th>\n",
              "      <td>2.709079e+07</td>\n",
              "      <td>5.000000e+00</td>\n",
              "      <td>1.000000e+02</td>\n",
              "      <td>6.000000e+01</td>\n",
              "    </tr>\n",
              "  </tbody>\n",
              "</table>\n",
              "</div>"
            ],
            "text/plain": [
              "               rank       overall  also_buy_qty  also_view_qty\n",
              "count  3.462231e+06  3.478964e+06  3.478964e+06   3.478964e+06\n",
              "mean   6.636593e+05  4.226817e+00  4.884604e+00   1.076120e+01\n",
              "std    1.077200e+06  1.309845e+00  1.578215e+01   1.936393e+01\n",
              "min    1.000000e+00  1.000000e+00  1.000000e+00   1.000000e+00\n",
              "25%    3.713300e+04  4.000000e+00  1.000000e+00   1.000000e+00\n",
              "50%    2.623810e+05  5.000000e+00  1.000000e+00   1.000000e+00\n",
              "75%    7.913430e+05  5.000000e+00  1.000000e+00   4.000000e+00\n",
              "max    2.709079e+07  5.000000e+00  1.000000e+02   6.000000e+01"
            ]
          },
          "execution_count": 13,
          "metadata": {},
          "output_type": "execute_result"
        }
      ],
      "source": [
        "df_pandas_reviews_automotive.describe()"
      ]
    }
  ],
  "metadata": {
    "description": null,
    "kernel_info": {
      "name": "synapse_pyspark"
    },
    "kernelspec": {
      "display_name": "Synapse PySpark",
      "language": "Python",
      "name": "synapse_pyspark"
    },
    "language_info": {
      "name": "python"
    },
    "save_output": true,
    "synapse_widget": {
      "state": {},
      "version": "0.1"
    }
  },
  "nbformat": 4,
  "nbformat_minor": 2
}
