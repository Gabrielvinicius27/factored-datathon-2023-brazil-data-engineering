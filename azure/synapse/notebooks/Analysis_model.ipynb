{
 "cells": [
  {
   "cell_type": "code",
   "execution_count": 1,
   "metadata": {},
   "outputs": [],
   "source": [
    "import os\n",
    "from dotenv import load_dotenv\n",
    "from pyspark.sql import SparkSession\n",
    "from delta import *\n",
    "import pyspark.sql.functions as F\n",
    "\n",
    "import matplotlib.pyplot"
   ]
  },
  {
   "cell_type": "code",
   "execution_count": 2,
   "metadata": {},
   "outputs": [],
   "source": [
    "load_dotenv()\n",
    "\n",
    "STORAGE_ACCOUNT_NAME = os.getenv('STORAGE_ACCOUNT_NAME')\n",
    "STORAGE_ACCOUNT_KEY = os.getenv('STORAGE_ACCOUNT_KEY')\n",
    "\n",
    "builder = SparkSession.builder\\\n",
    "        .config(\"spark.jars.packages\", \"org.apache.hadoop:hadoop-azure:3.3.4,\\\n",
    "io.delta:delta-core_2.12:2.4.0,\\\n",
    "io.delta:delta-storage:2.4.0,\\\n",
    "com.johnsnowlabs.nlp:spark-nlp_2.12:4.3.0\")\\\n",
    "        .config(f\"fs.azure.account.key.{STORAGE_ACCOUNT_NAME}.dfs.core.windows.net\", f\"{STORAGE_ACCOUNT_KEY}\")\\\n",
    "        .config(\"spark.sql.extensions\", \"io.delta.sql.DeltaSparkSessionExtension\")\\\n",
    "        .config(\"spark.sql.catalog.spark_catalog\", \"org.apache.spark.sql.delta.catalog.DeltaCatalog\")\n",
    "\n",
    "spark = configure_spark_with_delta_pip(builder).getOrCreate()"
   ]
  },
  {
   "cell_type": "code",
   "execution_count": 4,
   "metadata": {},
   "outputs": [
    {
     "ename": "",
     "evalue": "",
     "output_type": "error",
     "traceback": [
      "\u001b[1;31mCannot execute code, session has been disposed. Please try restarting the Kernel."
     ]
    },
    {
     "ename": "",
     "evalue": "",
     "output_type": "error",
     "traceback": [
      "\u001b[1;31mThe Kernel crashed while executing code in the the current cell or a previous cell. Please review the code in the cell(s) to identify a possible cause of the failure. Click <a href='https://aka.ms/vscodeJupyterKernelCrash'>here</a> for more info. View Jupyter <a href='command:jupyter.viewOutput'>log</a> for further details."
     ]
    }
   ],
   "source": [
    "root = 'abfss://default@stdatalakeakita.dfs.core.windows.net/synapse/workspaces/syn-synfactoreddatathon01-dev'\n",
    "\n",
    "df = spark.read\\\n",
    ".format('delta')\\\n",
    ".load(f'{root}/gold/gold_amazon_reviews_automotive')\n",
    "df.persist()\n",
    "df.limit(5).show()"
   ]
  },
  {
   "cell_type": "code",
   "execution_count": null,
   "metadata": {},
   "outputs": [],
   "source": []
  }
 ],
 "metadata": {
  "kernelspec": {
   "display_name": "Python 3",
   "language": "python",
   "name": "python3"
  },
  "language_info": {
   "codemirror_mode": {
    "name": "ipython",
    "version": 3
   },
   "file_extension": ".py",
   "mimetype": "text/x-python",
   "name": "python",
   "nbconvert_exporter": "python",
   "pygments_lexer": "ipython3",
   "version": "3.8.5"
  },
  "orig_nbformat": 4
 },
 "nbformat": 4,
 "nbformat_minor": 2
}
